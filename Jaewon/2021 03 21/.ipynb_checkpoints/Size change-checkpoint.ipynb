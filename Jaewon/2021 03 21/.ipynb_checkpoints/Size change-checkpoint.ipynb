{
 "cells": [
  {
   "cell_type": "code",
   "execution_count": 14,
   "metadata": {},
   "outputs": [],
   "source": [
    "import numpy as np, cv2\n",
    "import matplotlib.pyplot as plt\n",
    "import os"
   ]
  },
  {
   "cell_type": "code",
   "execution_count": 15,
   "metadata": {},
   "outputs": [],
   "source": [
    "path = '../../../Data/30_40'\n",
    "file_list = os.listdir(path)"
   ]
  },
  {
   "cell_type": "code",
   "execution_count": 20,
   "metadata": {},
   "outputs": [],
   "source": [
    "import shutil\n",
    "\n",
    "for file_name in file_list:\n",
    "    # make folder to save cropped image\n",
    "    try:\n",
    "        os.mkdir(path+'/'+file_name+'/'+'small')\n",
    "    except:\n",
    "        pass\n",
    "    \n",
    "    new_path = path+'/'+file_name+'/'+'small'\n",
    "    \n",
    "    # folder location\n",
    "    img_path = path+'/'+file_name+'/masked'\n",
    "    img_list = os.listdir(img_path)\n",
    "    \n",
    "    for img in img_list:\n",
    "        # find the image name without \"mask\"\n",
    "        img_origin = cv2.imread(img_path+'/'+img)\n",
    "        img_small = cv2.resize(img_origin,(40, 30));\n",
    "\n",
    "\n",
    "        try:\n",
    "            # save the cropped image\n",
    "            cv2.imwrite(new_path+'/'+img, img_small) \n",
    "        except:\n",
    "            pass\n",
    "    \n",
    "    shutil.rmtree(img_path)"
   ]
  },
  {
   "cell_type": "code",
   "execution_count": 21,
   "metadata": {},
   "outputs": [
    {
     "data": {
      "image/png": "[encoded data removed]",
      "text/plain": [
       "<Figure size 432x288 with 1 Axes>"
      ]
     },
     "metadata": {
      "needs_background": "light"
     },
     "output_type": "display_data"
    }
   ],
   "source": [
    "for i in range(3):\n",
    "    tmp_path = path+'/'+file_list[i]+'/small'\n",
    "    tmp_images = os.listdir(tmp_path)\n",
    "    tmp_image = cv2.imread(tmp_path+'/'+tmp_images[0])\n",
    "    plt.imshow(tmp_image)"
   ]
  },
  {
   "cell_type": "code",
   "execution_count": null,
   "metadata": {},
   "outputs": [],
   "source": []
  }
 ],
 "metadata": {
  "kernelspec": {
   "display_name": "Python 3",
   "language": "python",
   "name": "python3"
  },
  "language_info": {
   "codemirror_mode": {
    "name": "ipython",
    "version": 3
   },
   "file_extension": ".py",
   "mimetype": "text/x-python",
   "name": "python",
   "nbconvert_exporter": "python",
   "pygments_lexer": "ipython3",
   "version": "3.7.4"
  }
 },
 "nbformat": 4,
 "nbformat_minor": 2
}
