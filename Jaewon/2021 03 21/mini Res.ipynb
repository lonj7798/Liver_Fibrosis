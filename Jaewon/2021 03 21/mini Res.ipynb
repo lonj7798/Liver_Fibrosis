{
 "cells": [
  {
   "cell_type": "code",
   "execution_count": 1,
   "metadata": {},
   "outputs": [],
   "source": [
    "import pandas as pd\n",
    "import numpy as np\n",
    "\n",
    "\n",
    "import tensorflow as tf\n",
    "from tensorflow.keras.preprocessing.image import ImageDataGenerator \n",
    "\n",
    "import zipfile\n",
    "import os\n",
    "import shutil\n",
    "import random"
   ]
  },
  {
   "cell_type": "code",
   "execution_count": 2,
   "metadata": {},
   "outputs": [
    {
     "data": {
      "text/plain": [
       "IU22        101\n",
       "LOGIQE9      99\n",
       "iu22         78\n",
       "EUB-7500     70\n",
       "eub-7500     45\n",
       "S2000        28\n",
       "s2000         5\n",
       "Name: Equipment, dtype: int64"
      ]
     },
     "execution_count": 2,
     "metadata": {},
     "output_type": "execute_result"
    }
   ],
   "source": [
    "data = pd.read_csv(\"data.csv\")\n",
    "data.Fibrosis = data.Fibrosis.replace('-', np.NaN)\n",
    "data.Equipment.value_counts()"
   ]
  },
  {
   "cell_type": "code",
   "execution_count": 3,
   "metadata": {},
   "outputs": [],
   "source": [
    "# to upper character\n",
    "\n",
    "# data['Equipment'] = data['Equipment'].apply(lambda x: x.upper())"
   ]
  },
  {
   "cell_type": "code",
   "execution_count": 4,
   "metadata": {},
   "outputs": [],
   "source": [
    "data['Equipment'] = 'M'"
   ]
  },
  {
   "cell_type": "code",
   "execution_count": 5,
   "metadata": {},
   "outputs": [],
   "source": [
    "def sort_by_equipment(equipment):\n",
    "    return data[(data['Equipment'] == equipment)]['Fibrosis'].value_counts()"
   ]
  },
  {
   "cell_type": "code",
   "execution_count": 6,
   "metadata": {},
   "outputs": [],
   "source": [
    "data.Fibrosis = pd.to_numeric(data.Fibrosis)"
   ]
  },
  {
   "cell_type": "code",
   "execution_count": 7,
   "metadata": {},
   "outputs": [],
   "source": [
    "# divide the data by Equipment\n",
    "\n",
    "def fill_zero(f):\n",
    "    for i in range(len(f)):\n",
    "        f[i] = f[i].zfill(4)\n",
    "    \n",
    "    return f\n",
    "\n",
    "def sort_by_tool(equipment):\n",
    "    f_neg = data[(data['Fibrosis']==0) & (data['Equipment']==equipment.upper())].number.astype(str).tolist()\n",
    "    f_pos = data[(data['Fibrosis']!=0) & (data['Equipment']==equipment.upper())].number.astype(str).tolist()\n",
    "    \n",
    "    # fill the zeros (for foloder name)\n",
    "    f_neg = fill_zero(f_neg)\n",
    "    f_pos = fill_zero(f_pos)\n",
    "    \n",
    "    return f_neg, f_pos\n",
    "\n",
    "\n",
    "def move_to_tmp(local_zip, equipment, base_loc):\n",
    "    zip_ref = zipfile.ZipFile(local_zip, 'r')\n",
    "    zip_ref.extractall('/tmp/Liver_'+equipment)\n",
    "    zip_ref.close()\n",
    "\n",
    "def make_folder(base_loc):\n",
    "    try:\n",
    "        os.mkdir(base_loc)\n",
    "        os.mkdir(base_loc+'/training')\n",
    "        os.mkdir(base_loc+'/training/f0')\n",
    "        os.mkdir(base_loc+'/training/f1')\n",
    "        os.mkdir(base_loc+'/testing')\n",
    "        os.mkdir(base_loc+'/testing/f0')\n",
    "        os.mkdir(base_loc+'/testing/f1')\n",
    "\n",
    "    except OSError:\n",
    "        pass\n",
    "\n",
    "def move_to_folder(f_, folder_loc, split, base_loc):\n",
    "    split = int(len(f_)*(1-split))\n",
    "    \n",
    "    f_train = f_[:split]\n",
    "    f_test = f_[split:]\n",
    "    \n",
    "    print(folder_loc,':',len(f_train))\n",
    "    print(folder_loc,':',len(f_test))\n",
    "    \n",
    "    new_name = 0\n",
    "    for folder_name in f_train:\n",
    "        for root, subdirs, files in os.walk(base_loc+'/'+folder_name):\n",
    "            for f in files:\n",
    "                # file_name change\n",
    "                try:\n",
    "                    file_to_change = os.path.join(root, f)\n",
    "                    dst = str(new_name)+'.tif'\n",
    "                    dst = os.path.join(root, dst)\n",
    "                    # print(file_to_change, new_name)\n",
    "\n",
    "                    os.rename(file_to_change, dst)\n",
    "                    new_name += 1\n",
    "                    tmp = base_loc+'/training/'+folder_loc\n",
    "                    # file move\n",
    "                    shutil.move(dst, tmp)\n",
    "                except:\n",
    "                    print('error')\n",
    "    \n",
    "    new_name = 0                    \n",
    "    for folder_name in f_test:\n",
    "        for root, subdirs, files in os.walk(base_loc+'/'+folder_name):\n",
    "            for f in files:\n",
    "                # file_name change\n",
    "                try:\n",
    "                    file_to_change = os.path.join(root, f)\n",
    "                    dst = str(new_name)+'.tif'\n",
    "                    # print(file_to_change, new_name)\n",
    "\n",
    "                    dst = os.path.join(root, dst)\n",
    "                    os.rename(file_to_change, dst)\n",
    "                    new_name += 1\n",
    "                    tmp = base_loc+'/testing/'+folder_loc\n",
    "                    # file move\n",
    "                    shutil.move(dst, tmp)\n",
    "                except:\n",
    "                    print('error')"
   ]
  },
  {
   "cell_type": "code",
   "execution_count": 8,
   "metadata": {},
   "outputs": [],
   "source": [
    "def train_test_split(equipment, local_zip, split_size):\n",
    "    equipment = equipment.upper()\n",
    "    f_false, f_true = sort_by_tool(equipment)\n",
    "    \n",
    "    random.shuffle(f_false)\n",
    "    random.shuffle(f_true)\n",
    "    \n",
    "    make_folder(base_loc)\n",
    "    move_to_tmp(local_zip, equipment, base_loc)\n",
    "    \n",
    "    move_to_folder(f_false, 'f0', 0.2, base_loc)\n",
    "    move_to_folder(f_true, 'f1', 0.2, base_loc)"
   ]
  },
  {
   "cell_type": "code",
   "execution_count": 9,
   "metadata": {},
   "outputs": [],
   "source": [
    "def ImageGenerator(base_loc):\n",
    "    TRAINING_DIR = base_loc+'/training'\n",
    "    train_datagen = ImageDataGenerator(rescale = 1./255.)\n",
    "\n",
    "    train_generator = train_datagen.flow_from_directory(TRAINING_DIR,\n",
    "                                                       batch_size=8,\n",
    "                                                       class_mode='binary',\n",
    "                                                       target_size=(600,800),\n",
    "                                                       color_mode='grayscale') # target_size = (height, width)\n",
    "\n",
    "    TESTING_DIR = base_loc+'/testing'\n",
    "    test_datagen = ImageDataGenerator(rescale = 1.0/255.)\n",
    "\n",
    "    test_generator = train_datagen.flow_from_directory(TESTING_DIR,\n",
    "                                                       batch_size=16,\n",
    "                                                       class_mode='binary',\n",
    "                                                       target_size=(600,800), \n",
    "                                                       color_mode='grayscale')\n",
    "    \n",
    "    return train_generator, test_generator"
   ]
  },
  {
   "cell_type": "code",
   "execution_count": 12,
   "metadata": {
    "scrolled": true
   },
   "outputs": [],
   "source": [
    "# change\n",
    "equipment = 'M' \n",
    "local_zip = '../../../Data/original.zip'\n",
    "base_loc = '/tmp/Liver_' + equipment"
   ]
  },
  {
   "cell_type": "code",
   "execution_count": 13,
   "metadata": {},
   "outputs": [
    {
     "name": "stdout",
     "output_type": "stream",
     "text": [
      "f0 : 116\n",
      "f0 : 30\n",
      "f1 : 224\n",
      "f1 : 56\n"
     ]
    }
   ],
   "source": [
    "train_test_split(equipment, local_zip, 0.2)"
   ]
  },
  {
   "cell_type": "code",
   "execution_count": 14,
   "metadata": {},
   "outputs": [],
   "source": [
    "# training\n",
    "\n",
    "# error files:\n",
    "# 1881/mask/1881-0006.tif\n",
    "# 1813/mask/1813-0002.tif\n",
    "# 2103/mask/2013-0001.tif"
   ]
  },
  {
   "cell_type": "code",
   "execution_count": 15,
   "metadata": {},
   "outputs": [
    {
     "name": "stdout",
     "output_type": "stream",
     "text": [
      "Training Fibrosis 0: 887\n",
      "Testing Fibrosis 0: 222\n",
      "-------------------------\n",
      "Training Fibrosis 1: 1549\n",
      "Testing Fibrosis 1: 423\n"
     ]
    }
   ],
   "source": [
    "print(\"Training Fibrosis 0:\", len(os.listdir(base_loc+'/training/f0')))\n",
    "print(\"Testing Fibrosis 0:\", len(os.listdir(base_loc+'/testing/f0')))\n",
    "print(\"-\"*25)\n",
    "print(\"Training Fibrosis 1:\", len(os.listdir(base_loc+'/training/f1')))\n",
    "print(\"Testing Fibrosis 1:\", len(os.listdir(base_loc+'/testing/f1')))"
   ]
  },
  {
   "cell_type": "code",
   "execution_count": 16,
   "metadata": {
    "scrolled": true
   },
   "outputs": [
    {
     "name": "stdout",
     "output_type": "stream",
     "text": [
      "Found 2436 images belonging to 2 classes.\n",
      "Found 645 images belonging to 2 classes.\n"
     ]
    }
   ],
   "source": [
    "train_generator, test_generator = ImageGenerator(base_loc)"
   ]
  },
  {
   "cell_type": "code",
   "execution_count": null,
   "metadata": {},
   "outputs": [],
   "source": []
  },
  {
   "cell_type": "code",
   "execution_count": 17,
   "metadata": {},
   "outputs": [
    {
     "name": "stdout",
     "output_type": "stream",
     "text": [
      "1 Physical GPUs, 1 Logical GPUs\n"
     ]
    }
   ],
   "source": [
    "gpus = tf.config.experimental.list_physical_devices('GPU')\n",
    "if gpus:\n",
    "    try:\n",
    "        # Currently, memory growth needs to be the same across GPUs\n",
    "        for gpu in gpus:\n",
    "            tf.config.experimental.set_memory_growth(gpu, True)\n",
    "            logical_gpus = tf.config.experimental.list_logical_devices('GPU')\n",
    "        print(len(gpus), \"Physical GPUs,\", len(logical_gpus), \"Logical GPUs\")\n",
    "    except RuntimeError as e:\n",
    "        # Memory growth must be set before GPUs have been initialized\n",
    "        print(e)"
   ]
  },
  {
   "cell_type": "code",
   "execution_count": null,
   "metadata": {},
   "outputs": [],
   "source": []
  },
  {
   "cell_type": "markdown",
   "metadata": {},
   "source": [
    "## Simple Res Model"
   ]
  },
  {
   "cell_type": "code",
   "execution_count": 18,
   "metadata": {},
   "outputs": [],
   "source": [
    "from tensorflow.keras.layers import Layer"
   ]
  },
  {
   "cell_type": "code",
   "execution_count": 19,
   "metadata": {},
   "outputs": [],
   "source": [
    "class IdentityBlock(tf.keras.Model):\n",
    "    def __init__(self, filters, kernel_size):\n",
    "        super(IdentityBlock, self).__init__(name='')\n",
    "        \n",
    "        self.conv1 = tf.keras.layers.Conv2D(filters, kernel_size, padding='same')\n",
    "        self.bn1 = tf.keras.layers.BatchNormalization()\n",
    "        \n",
    "        self.conv2 = tf.keras.layers.Conv2D(filters, kernel_size, padding='same')\n",
    "        self.bn2 = tf.keras.layers.BatchNormalization()\n",
    "        \n",
    "        self.act = tf.keras.layers.Activation('relu')\n",
    "        self.add = tf.keras.layers.Add()\n",
    "        \n",
    "    def call(self, input_tensor):\n",
    "        X = self.conv1(input_tensor)\n",
    "        X = self.bn1(X)\n",
    "        X = self.act(X)\n",
    "        \n",
    "        X = self.conv2(X)\n",
    "        X = self.bn2(X)\n",
    "        \n",
    "        X = self.add([X, input_tensor])\n",
    "        X = self.act(X)\n",
    "        return X\n",
    "    \n",
    "class ResNet(tf.keras.Model):\n",
    "    def __init__(self, num_classes):\n",
    "        super(ResNet, self).__init__()\n",
    "        self.conv = tf.keras.layers.Conv2D(64, 7, padding='same')\n",
    "        self.bn = tf.keras.layers.BatchNormalization()\n",
    "        self.act = tf.keras.layers.Activation('relu')\n",
    "        self.max_pool = tf.keras.layers.MaxPool2D((3, 3))\n",
    "\n",
    "        # Use the Identity blocks that you just defined\n",
    "        self.id1a = IdentityBlock(64, 3)\n",
    "        self.id1b = IdentityBlock(64, 3)\n",
    "\n",
    "        self.global_pool = tf.keras.layers.GlobalAveragePooling2D()\n",
    "        \n",
    "        self.flatten = tf.keras.layers.Flatten()\n",
    "        self.drop = tf.keras.layers.Dropout(0.4)\n",
    "        self.dense_1 = tf.keras.layers.Dense(1024, activation='sigmoid')\n",
    "        self.dense_2 = tf.keras.layers.Dense(512, activation='sigmoid')\n",
    "        self.classifier = tf.keras.layers.Dense(num_classes, activation='sigmoid')\n",
    "\n",
    "    def call(self, inputs):\n",
    "        x = self.conv(inputs)\n",
    "        x = self.bn(x)\n",
    "        x = self.act(x)\n",
    "        x = self.max_pool(x)\n",
    "\n",
    "        # insert the identity blocks in the middle of the network\n",
    "        x = self.id1a(x)\n",
    "        x = self.id1b(x)\n",
    "        x = self.global_pool(x)\n",
    "        \n",
    "        x = self.flatten(x)\n",
    "        x = self.drop(x)\n",
    "        x = self.dense_1(x)\n",
    "        x = self.dense_2(x)\n",
    "        \n",
    "        return self.classifier(x)"
   ]
  },
  {
   "cell_type": "code",
   "execution_count": 20,
   "metadata": {},
   "outputs": [],
   "source": [
    "resnet = ResNet(1)"
   ]
  },
  {
   "cell_type": "code",
   "execution_count": 21,
   "metadata": {},
   "outputs": [],
   "source": [
    "resnet.compile(optimizer=tf.keras.optimizers.Adam(lr=0.0001),\n",
    "               loss=tf.keras.losses.BinaryCrossentropy(),\n",
    "               metrics=['accuracy'])"
   ]
  },
  {
   "cell_type": "code",
   "execution_count": 23,
   "metadata": {
    "scrolled": true
   },
   "outputs": [
    {
     "name": "stdout",
     "output_type": "stream",
     "text": [
      "Epoch 1/50\n",
      "  2/305 [..............................] - ETA: 38s - loss: 0.4988 - accuracy: 0.8125WARNING:tensorflow:Callbacks method `on_train_batch_end` is slow compared to the batch time (batch time: 0.0631s vs `on_train_batch_end` time: 0.0948s). Check your callbacks.\n",
      "305/305 [==============================] - 50s 163ms/step - loss: 0.6515 - accuracy: 0.6470 - val_loss: 1.2008 - val_accuracy: 0.3442\n",
      "Epoch 2/50\n",
      "305/305 [==============================] - 49s 162ms/step - loss: 0.6377 - accuracy: 0.6580 - val_loss: 0.8532 - val_accuracy: 0.3442\n",
      "Epoch 3/50\n",
      "305/305 [==============================] - 49s 162ms/step - loss: 0.6255 - accuracy: 0.6769 - val_loss: 0.6604 - val_accuracy: 0.6682\n",
      "Epoch 4/50\n",
      "305/305 [==============================] - 49s 162ms/step - loss: 0.6216 - accuracy: 0.6741 - val_loss: 0.5745 - val_accuracy: 0.6791\n",
      "Epoch 5/50\n",
      "305/305 [==============================] - 49s 162ms/step - loss: 0.6138 - accuracy: 0.6761 - val_loss: 0.6570 - val_accuracy: 0.6605\n",
      "Epoch 6/50\n",
      "305/305 [==============================] - 50s 164ms/step - loss: 0.6130 - accuracy: 0.6864 - val_loss: 0.5673 - val_accuracy: 0.7178\n",
      "Epoch 7/50\n",
      "305/305 [==============================] - 50s 163ms/step - loss: 0.6119 - accuracy: 0.6814 - val_loss: 0.5743 - val_accuracy: 0.7473\n",
      "Epoch 8/50\n",
      "305/305 [==============================] - 50s 163ms/step - loss: 0.6036 - accuracy: 0.6938 - val_loss: 0.6927 - val_accuracy: 0.6713\n",
      "Epoch 9/50\n",
      "305/305 [==============================] - 50s 163ms/step - loss: 0.5987 - accuracy: 0.6884 - val_loss: 0.5954 - val_accuracy: 0.7039\n",
      "Epoch 10/50\n",
      "305/305 [==============================] - 50s 163ms/step - loss: 0.5965 - accuracy: 0.6888 - val_loss: 0.5614 - val_accuracy: 0.7457\n",
      "Epoch 11/50\n",
      "305/305 [==============================] - 50s 163ms/step - loss: 0.5938 - accuracy: 0.6995 - val_loss: 0.5776 - val_accuracy: 0.7333\n",
      "Epoch 12/50\n",
      "305/305 [==============================] - 50s 163ms/step - loss: 0.5921 - accuracy: 0.6970 - val_loss: 1.1311 - val_accuracy: 0.3442\n",
      "Epoch 13/50\n",
      "305/305 [==============================] - 50s 163ms/step - loss: 0.5908 - accuracy: 0.6995 - val_loss: 0.6402 - val_accuracy: 0.6341\n",
      "Epoch 14/50\n",
      "305/305 [==============================] - 50s 163ms/step - loss: 0.5787 - accuracy: 0.7057 - val_loss: 0.5495 - val_accuracy: 0.7566\n",
      "Epoch 15/50\n",
      "305/305 [==============================] - 50s 163ms/step - loss: 0.5811 - accuracy: 0.7011 - val_loss: 0.5667 - val_accuracy: 0.7535\n",
      "Epoch 16/50\n",
      "305/305 [==============================] - 50s 163ms/step - loss: 0.5799 - accuracy: 0.7003 - val_loss: 0.5249 - val_accuracy: 0.7473\n",
      "Epoch 17/50\n",
      "305/305 [==============================] - 50s 163ms/step - loss: 0.5691 - accuracy: 0.7118 - val_loss: 0.5930 - val_accuracy: 0.7023\n",
      "Epoch 18/50\n",
      "305/305 [==============================] - 50s 163ms/step - loss: 0.5759 - accuracy: 0.7036 - val_loss: 0.5534 - val_accuracy: 0.7225\n",
      "Epoch 19/50\n",
      "305/305 [==============================] - 50s 163ms/step - loss: 0.5695 - accuracy: 0.7069 - val_loss: 0.5281 - val_accuracy: 0.7519\n",
      "Epoch 20/50\n",
      "305/305 [==============================] - 50s 163ms/step - loss: 0.5678 - accuracy: 0.7135 - val_loss: 0.5725 - val_accuracy: 0.7209\n",
      "Epoch 21/50\n",
      "305/305 [==============================] - 50s 163ms/step - loss: 0.5691 - accuracy: 0.7147 - val_loss: 0.5203 - val_accuracy: 0.7674\n",
      "Epoch 22/50\n",
      "305/305 [==============================] - 50s 163ms/step - loss: 0.5771 - accuracy: 0.7135 - val_loss: 0.9562 - val_accuracy: 0.3721\n",
      "Epoch 23/50\n",
      "305/305 [==============================] - 50s 163ms/step - loss: 0.5660 - accuracy: 0.7081 - val_loss: 1.9749 - val_accuracy: 0.3473\n",
      "Epoch 24/50\n",
      "305/305 [==============================] - 50s 163ms/step - loss: 0.5571 - accuracy: 0.7229 - val_loss: 0.5758 - val_accuracy: 0.7225\n",
      "Epoch 25/50\n",
      "305/305 [==============================] - 50s 163ms/step - loss: 0.5621 - accuracy: 0.7278 - val_loss: 0.8196 - val_accuracy: 0.4853\n",
      "Epoch 26/50\n",
      "305/305 [==============================] - 50s 163ms/step - loss: 0.5615 - accuracy: 0.7122 - val_loss: 0.6232 - val_accuracy: 0.6977\n",
      "Epoch 27/50\n",
      "305/305 [==============================] - 50s 163ms/step - loss: 0.5611 - accuracy: 0.7172 - val_loss: 0.5953 - val_accuracy: 0.6822\n",
      "Epoch 28/50\n",
      "305/305 [==============================] - 50s 163ms/step - loss: 0.5620 - accuracy: 0.7196 - val_loss: 0.6109 - val_accuracy: 0.7023\n",
      "Epoch 29/50\n",
      "305/305 [==============================] - 50s 163ms/step - loss: 0.5525 - accuracy: 0.7237 - val_loss: 0.5219 - val_accuracy: 0.7519\n",
      "Epoch 30/50\n",
      "305/305 [==============================] - 50s 163ms/step - loss: 0.5494 - accuracy: 0.7303 - val_loss: 0.6770 - val_accuracy: 0.6961\n",
      "Epoch 31/50\n",
      "305/305 [==============================] - 50s 165ms/step - loss: 0.5515 - accuracy: 0.7147 - val_loss: 0.5118 - val_accuracy: 0.7643\n",
      "Epoch 32/50\n",
      "305/305 [==============================] - 50s 163ms/step - loss: 0.5485 - accuracy: 0.7188 - val_loss: 0.6263 - val_accuracy: 0.6465\n",
      "Epoch 33/50\n",
      "305/305 [==============================] - 50s 163ms/step - loss: 0.5521 - accuracy: 0.7328 - val_loss: 1.1895 - val_accuracy: 0.3628\n",
      "Epoch 34/50\n",
      "305/305 [==============================] - 50s 163ms/step - loss: 0.5589 - accuracy: 0.7196 - val_loss: 0.5234 - val_accuracy: 0.7535\n",
      "Epoch 35/50\n",
      "305/305 [==============================] - 50s 163ms/step - loss: 0.5480 - accuracy: 0.7254 - val_loss: 0.5300 - val_accuracy: 0.7442\n",
      "Epoch 36/50\n",
      "305/305 [==============================] - 50s 163ms/step - loss: 0.5442 - accuracy: 0.7291 - val_loss: 0.5305 - val_accuracy: 0.7457\n",
      "Epoch 37/50\n",
      "305/305 [==============================] - 50s 165ms/step - loss: 0.5395 - accuracy: 0.7356 - val_loss: 3.0724 - val_accuracy: 0.3519\n",
      "Epoch 38/50\n",
      "305/305 [==============================] - 50s 165ms/step - loss: 0.5503 - accuracy: 0.7213 - val_loss: 0.5318 - val_accuracy: 0.7535\n",
      "Epoch 39/50\n",
      "305/305 [==============================] - 51s 166ms/step - loss: 0.5390 - accuracy: 0.7373 - val_loss: 0.4985 - val_accuracy: 0.7690\n",
      "Epoch 40/50\n",
      "305/305 [==============================] - 50s 163ms/step - loss: 0.5536 - accuracy: 0.7233 - val_loss: 0.5639 - val_accuracy: 0.7380\n",
      "Epoch 41/50\n",
      "305/305 [==============================] - 50s 163ms/step - loss: 0.5489 - accuracy: 0.7213 - val_loss: 0.5395 - val_accuracy: 0.7519\n",
      "Epoch 42/50\n",
      "305/305 [==============================] - 50s 163ms/step - loss: 0.5553 - accuracy: 0.7143 - val_loss: 0.5207 - val_accuracy: 0.7504\n",
      "Epoch 43/50\n",
      "305/305 [==============================] - 50s 163ms/step - loss: 0.5397 - accuracy: 0.7369 - val_loss: 0.6001 - val_accuracy: 0.6698\n",
      "Epoch 44/50\n",
      "305/305 [==============================] - 50s 162ms/step - loss: 0.5408 - accuracy: 0.7245 - val_loss: 0.5513 - val_accuracy: 0.7256\n",
      "Epoch 45/50\n",
      "305/305 [==============================] - 50s 163ms/step - loss: 0.5436 - accuracy: 0.7340 - val_loss: 0.5328 - val_accuracy: 0.7504\n",
      "Epoch 46/50\n",
      "305/305 [==============================] - 50s 164ms/step - loss: 0.5428 - accuracy: 0.7303 - val_loss: 0.7368 - val_accuracy: 0.5659\n",
      "Epoch 47/50\n",
      "305/305 [==============================] - 50s 163ms/step - loss: 0.5553 - accuracy: 0.7241 - val_loss: 0.5214 - val_accuracy: 0.7535\n",
      "Epoch 48/50\n",
      "305/305 [==============================] - 50s 163ms/step - loss: 0.5418 - accuracy: 0.7336 - val_loss: 0.7154 - val_accuracy: 0.6760\n",
      "Epoch 49/50\n",
      "305/305 [==============================] - 50s 163ms/step - loss: 0.5417 - accuracy: 0.7328 - val_loss: 0.7711 - val_accuracy: 0.5147\n",
      "Epoch 50/50\n",
      "305/305 [==============================] - 50s 163ms/step - loss: 0.5352 - accuracy: 0.7406 - val_loss: 0.5229 - val_accuracy: 0.7783\n"
     ]
    }
   ],
   "source": [
    "history = resnet.fit(train_generator,\n",
    "           epochs=50,\n",
    "           validation_data=test_generator)"
   ]
  },
  {
   "cell_type": "code",
   "execution_count": 25,
   "metadata": {},
   "outputs": [
    {
     "data": {
      "image/png": "[encoded data removed]",
      "text/plain": [
       "<Figure size 432x288 with 1 Axes>"
      ]
     },
     "metadata": {
      "needs_background": "light"
     },
     "output_type": "display_data"
    },
    {
     "data": {
      "image/png": "[encoded data removed]",
      "text/plain": [
       "<Figure size 432x288 with 1 Axes>"
      ]
     },
     "metadata": {
      "needs_background": "light"
     },
     "output_type": "display_data"
    }
   ],
   "source": [
    "import matplotlib.pyplot as plt\n",
    "\n",
    "def plot_graphs(history, string):\n",
    "    plt.plot(history.history[string])\n",
    "    plt.plot(history.history['val_'+string])\n",
    "    plt.xlabel(\"Epochs\")\n",
    "    plt.ylabel(string)\n",
    "    plt.legend([string, 'val_'+string])\n",
    "    plt.show()\n",
    "    \n",
    "plot_graphs(history, \"accuracy\")\n",
    "plot_graphs(history, \"loss\")"
   ]
  },
  {
   "cell_type": "code",
   "execution_count": null,
   "metadata": {},
   "outputs": [],
   "source": []
  },
  {
   "cell_type": "code",
   "execution_count": null,
   "metadata": {},
   "outputs": [],
   "source": []
  },
  {
   "cell_type": "code",
   "execution_count": null,
   "metadata": {},
   "outputs": [],
   "source": []
  },
  {
   "cell_type": "code",
   "execution_count": 26,
   "metadata": {},
   "outputs": [],
   "source": [
    "# delete the data\n",
    "\n",
    "shutil.rmtree('/tmp/Liver_'+equipment)"
   ]
  },
  {
   "cell_type": "code",
   "execution_count": null,
   "metadata": {},
   "outputs": [],
   "source": [
    "import os, signal\n",
    "train_generator, test_generator\n",
    "os.kill(os.getpid(),signal.SIGKILL)"
   ]
  },
  {
   "cell_type": "code",
   "execution_count": null,
   "metadata": {},
   "outputs": [],
   "source": []
  }
 ],
 "metadata": {
  "kernelspec": {
   "display_name": "Python 3",
   "language": "python",
   "name": "python3"
  },
  "language_info": {
   "codemirror_mode": {
    "name": "ipython",
    "version": 3
   },
   "file_extension": ".py",
   "mimetype": "text/x-python",
   "name": "python",
   "nbconvert_exporter": "python",
   "pygments_lexer": "ipython3",
   "version": "3.7.4"
  }
 },
 "nbformat": 4,
 "nbformat_minor": 4
}
