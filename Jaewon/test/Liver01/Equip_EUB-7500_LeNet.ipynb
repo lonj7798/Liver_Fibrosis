{
 "cells": [
  {
   "cell_type": "code",
   "execution_count": 1,
   "metadata": {},
   "outputs": [],
   "source": [
    "import pandas as pd\n",
    "import numpy as np\n",
    "\n",
    "\n",
    "import tensorflow as tf\n",
    "from tensorflow.keras.preprocessing.image import ImageDataGenerator \n",
    "\n",
    "import zipfile\n",
    "import os\n",
    "import shutil\n",
    "import random"
   ]
  },
  {
   "cell_type": "code",
   "execution_count": 2,
   "metadata": {},
   "outputs": [],
   "source": [
    "data = pd.read_csv(\"data.csv\")"
   ]
  },
  {
   "cell_type": "code",
   "execution_count": 3,
   "metadata": {},
   "outputs": [],
   "source": [
    "data.Fibrosis = data.Fibrosis.replace('-', np.NaN)"
   ]
  },
  {
   "cell_type": "code",
   "execution_count": 4,
   "metadata": {
    "scrolled": true
   },
   "outputs": [
    {
     "data": {
      "text/plain": [
       "IU22        101\n",
       "LOGIQE9      99\n",
       "iu22         78\n",
       "EUB-7500     70\n",
       "eub-7500     45\n",
       "S2000        28\n",
       "s2000         5\n",
       "Name: Equipment, dtype: int64"
      ]
     },
     "execution_count": 4,
     "metadata": {},
     "output_type": "execute_result"
    }
   ],
   "source": [
    "data.Equipment.value_counts()"
   ]
  },
  {
   "cell_type": "code",
   "execution_count": 5,
   "metadata": {},
   "outputs": [],
   "source": [
    "# to upper character\n",
    "\n",
    "data['Equipment'] = data['Equipment'].apply(lambda x: x.upper())"
   ]
  },
  {
   "cell_type": "code",
   "execution_count": 6,
   "metadata": {},
   "outputs": [],
   "source": [
    "def sort_by_equipment(equipment):\n",
    "    return data[(data['Equipment'] == equipment)]['Fibrosis'].value_counts()"
   ]
  },
  {
   "cell_type": "code",
   "execution_count": 7,
   "metadata": {
    "scrolled": true
   },
   "outputs": [
    {
     "data": {
      "text/plain": [
       "4    49\n",
       "3    24\n",
       "0    16\n",
       "2     9\n",
       "1     8\n",
       "Name: Fibrosis, dtype: int64"
      ]
     },
     "execution_count": 7,
     "metadata": {},
     "output_type": "execute_result"
    }
   ],
   "source": [
    "sort_by_equipment('EUB-7500')"
   ]
  },
  {
   "cell_type": "code",
   "execution_count": 8,
   "metadata": {},
   "outputs": [
    {
     "data": {
      "text/plain": [
       "0    43\n",
       "4    29\n",
       "3    11\n",
       "1     3\n",
       "2     1\n",
       "Name: Fibrosis, dtype: int64"
      ]
     },
     "execution_count": 8,
     "metadata": {},
     "output_type": "execute_result"
    }
   ],
   "source": [
    "sort_by_equipment('LOGIQE9')"
   ]
  },
  {
   "cell_type": "code",
   "execution_count": 9,
   "metadata": {},
   "outputs": [],
   "source": [
    "# train with 'EUB-7500'\n",
    "# train with 'LOGIQE9'"
   ]
  },
  {
   "cell_type": "code",
   "execution_count": 10,
   "metadata": {},
   "outputs": [],
   "source": [
    "data.Fibrosis = pd.to_numeric(data.Fibrosis)"
   ]
  },
  {
   "cell_type": "code",
   "execution_count": 11,
   "metadata": {},
   "outputs": [],
   "source": [
    "# divide the data by Equipment\n",
    "\n",
    "def fill_zero(f):\n",
    "    for i in range(len(f)):\n",
    "        f[i] = f[i].zfill(4)\n",
    "    \n",
    "    return f\n",
    "\n",
    "def sort_by_tool(equipment):\n",
    "    f_neg = data[(data['Fibrosis']==0) & (data['Equipment']==equipment.upper())].number.astype(str).tolist()\n",
    "    f_pos = data[(data['Fibrosis']!=0) & (data['Equipment']==equipment.upper())].number.astype(str).tolist()\n",
    "    \n",
    "    # fill the zeros (for foloder name)\n",
    "    f_neg = fill_zero(f_neg)\n",
    "    f_pos = fill_zero(f_pos)\n",
    "    \n",
    "    return f_neg, f_pos\n",
    "\n",
    "\n",
    "def move_to_tmp(local_zip, equipment, base_loc):\n",
    "    zip_ref = zipfile.ZipFile(local_zip, 'r')\n",
    "    zip_ref.extractall('/tmp/Liver_'+equipment)\n",
    "    zip_ref.close()\n",
    "\n",
    "def make_folder(base_loc):\n",
    "    try:\n",
    "        os.mkdir(base_loc)\n",
    "        os.mkdir(base_loc+'/training')\n",
    "        os.mkdir(base_loc+'/training/f0')\n",
    "        os.mkdir(base_loc+'/training/f1')\n",
    "        os.mkdir(base_loc+'/testing')\n",
    "        os.mkdir(base_loc+'/testing/f0')\n",
    "        os.mkdir(base_loc+'/testing/f1')\n",
    "\n",
    "    except OSError:\n",
    "        pass\n",
    "\n",
    "def move_to_folder(f_, folder_loc, split, base_loc):\n",
    "    split = int(len(f_)*(1-split))\n",
    "    \n",
    "    f_train = f_[:split]\n",
    "    f_test = f_[split:]\n",
    "    \n",
    "    print(folder_loc,':',len(f_train))\n",
    "    print(folder_loc,':',len(f_test))\n",
    "    \n",
    "    new_name = 0\n",
    "    for folder_name in f_train:\n",
    "        for root, subdirs, files in os.walk(base_loc+'/'+folder_name):\n",
    "            for f in files:\n",
    "                if 'mask' not in f:\n",
    "                    # file_name change\n",
    "                    try:\n",
    "                        file_to_change = os.path.join(root, f)\n",
    "                        dst = str(new_name)+'.tif'\n",
    "                        dst = os.path.join(root, dst)\n",
    "                        os.rename(file_to_change, dst)\n",
    "                        new_name += 1\n",
    "                        tmp = base_loc+'/training/'+folder_loc\n",
    "                        # file move\n",
    "                        shutil.move(dst, tmp)\n",
    "                    except:\n",
    "                        print('error')\n",
    "    \n",
    "    new_name = 0                    \n",
    "    for folder_name in f_test:\n",
    "        for root, subdirs, files in os.walk(base_loc+'/'+folder_name):\n",
    "            for f in files:\n",
    "                if 'mask' not in f:\n",
    "                    # file_name change\n",
    "                    try:\n",
    "                        file_to_change = os.path.join(root, f)\n",
    "                        dst = str(new_name)+'.tif'\n",
    "                        dst = os.path.join(root, dst)\n",
    "                        os.rename(file_to_change, dst)\n",
    "                        new_name += 1\n",
    "                        tmp = base_loc+'/testing/'+folder_loc\n",
    "                        # file move\n",
    "                        shutil.move(dst, tmp)\n",
    "                    except:\n",
    "                        print('error')"
   ]
  },
  {
   "cell_type": "code",
   "execution_count": 12,
   "metadata": {},
   "outputs": [],
   "source": [
    "def train_test_split(equipment, local_zip, split_size):\n",
    "    equipment = equipment.upper()\n",
    "    f_false, f_true = sort_by_tool(equipment)\n",
    "    \n",
    "    random.shuffle(f_false)\n",
    "    random.shuffle(f_true)\n",
    "    \n",
    "    make_folder(base_loc)\n",
    "    move_to_tmp(local_zip, equipment, base_loc)\n",
    "    \n",
    "    move_to_folder(f_false, 'f0', 0.2, base_loc)\n",
    "    move_to_folder(f_true, 'f1', 0.2, base_loc)"
   ]
  },
  {
   "cell_type": "code",
   "execution_count": 2,
   "metadata": {},
   "outputs": [],
   "source": [
    "def ImageGenerator(base_loc):\n",
    "    TRAINING_DIR = base_loc+'/training'\n",
    "    train_datagen = ImageDataGenerator(rescale = 1.0/255.)\n",
    "\n",
    "    train_generator = train_datagen.flow_from_directory(TRAINING_DIR,\n",
    "                                                       batch_size=64,\n",
    "                                                       class_mode='binary',\n",
    "                                                       target_size=(600,800),\n",
    "                                                       color_mode='grayscale') # target_size = (height, width)\n",
    "\n",
    "    TESTING_DIR = base_loc+'/testing'\n",
    "    test_datagen = ImageDataGenerator(rescale = 1.0/255.)\n",
    "\n",
    "    test_generator = train_datagen.flow_from_directory(TESTING_DIR,\n",
    "                                                       batch_size=32,\n",
    "                                                       class_mode='binary',\n",
    "                                                       target_size=(600,800), \n",
    "                                                       color_mode='grayscale')\n",
    "    \n",
    "    return train_generator, test_generator"
   ]
  },
  {
   "cell_type": "code",
   "execution_count": 3,
   "metadata": {
    "scrolled": true
   },
   "outputs": [],
   "source": [
    "# change\n",
    "equipment = 'EUB-7500' \n",
    "local_zip = '../../../Data/Liver.zip'\n",
    "base_loc = '/tmp/Liver_' + equipment"
   ]
  },
  {
   "cell_type": "code",
   "execution_count": 15,
   "metadata": {},
   "outputs": [
    {
     "name": "stdout",
     "output_type": "stream",
     "text": [
      "f0 : 12\n",
      "f0 : 4\n",
      "f1 : 79\n",
      "f1 : 20\n"
     ]
    }
   ],
   "source": [
    "train_test_split(equipment, local_zip, 0.1)"
   ]
  },
  {
   "cell_type": "code",
   "execution_count": 20,
   "metadata": {},
   "outputs": [],
   "source": [
    "# training"
   ]
  },
  {
   "cell_type": "code",
   "execution_count": 4,
   "metadata": {},
   "outputs": [
    {
     "name": "stdout",
     "output_type": "stream",
     "text": [
      "Training Fibrosis 0: 107\n",
      "Testing Fibrosis 0: 35\n",
      "-------------------------\n",
      "Training Fibrosis 1: 664\n",
      "Testing Fibrosis 1: 207\n"
     ]
    }
   ],
   "source": [
    "print(\"Training Fibrosis 0:\", len(os.listdir(base_loc+'/training/f0')))\n",
    "print(\"Testing Fibrosis 0:\", len(os.listdir(base_loc+'/testing/f0')))\n",
    "print(\"-\"*25)\n",
    "print(\"Training Fibrosis 1:\", len(os.listdir(base_loc+'/training/f1')))\n",
    "print(\"Testing Fibrosis 1:\", len(os.listdir(base_loc+'/testing/f1')))"
   ]
  },
  {
   "cell_type": "code",
   "execution_count": 5,
   "metadata": {},
   "outputs": [
    {
     "name": "stdout",
     "output_type": "stream",
     "text": [
      "Found 771 images belonging to 2 classes.\n",
      "Found 242 images belonging to 2 classes.\n",
      "Model: \"sequential\"\n",
      "_________________________________________________________________\n",
      "Layer (type)                 Output Shape              Param #   \n",
      "=================================================================\n",
      "conv2d (Conv2D)              (None, 596, 796, 6)       156       \n",
      "_________________________________________________________________\n",
      "average_pooling2d (AveragePo (None, 298, 398, 6)       0         \n",
      "_________________________________________________________________\n",
      "conv2d_1 (Conv2D)            (None, 294, 394, 16)      2416      \n",
      "_________________________________________________________________\n",
      "average_pooling2d_1 (Average (None, 147, 197, 16)      0         \n",
      "_________________________________________________________________\n",
      "flatten (Flatten)            (None, 463344)            0         \n",
      "_________________________________________________________________\n",
      "dense (Dense)                (None, 128)               59308160  \n",
      "_________________________________________________________________\n",
      "dense_1 (Dense)              (None, 64)                8256      \n",
      "_________________________________________________________________\n",
      "dense_2 (Dense)              (None, 32)                2080      \n",
      "_________________________________________________________________\n",
      "dense_3 (Dense)              (None, 1)                 33        \n",
      "=================================================================\n",
      "Total params: 59,321,101\n",
      "Trainable params: 59,321,101\n",
      "Non-trainable params: 0\n",
      "_________________________________________________________________\n"
     ]
    }
   ],
   "source": [
    "train_generator, test_generator = ImageGenerator(base_loc)\n",
    "\n",
    "model = tf.keras.models.Sequential([\n",
    "    tf.keras.layers.Conv2D(6, (5,5), activation='relu', input_shape=(600,800,1)),\n",
    "    tf.keras.layers.AveragePooling2D(pool_size=(2, 2), strides=(2, 2), padding='valid'),\n",
    "    tf.keras.layers.Conv2D(16, (5,5), activation='relu'),\n",
    "    tf.keras.layers.AveragePooling2D(pool_size=(2, 2), strides=(2, 2), padding='valid'),\n",
    "    tf.keras.layers.Flatten(),\n",
    "    tf.keras.layers.Dense(128, activation='relu'),\n",
    "    tf.keras.layers.Dense(64, activation='relu'),\n",
    "    tf.keras.layers.Dense(32, activation='relu'),\n",
    "    tf.keras.layers.Dense(1, activation='sigmoid')\n",
    "])\n",
    "model.summary()"
   ]
  },
  {
   "cell_type": "code",
   "execution_count": 8,
   "metadata": {},
   "outputs": [],
   "source": [
    "from tensorflow.keras.callbacks import Callback\n",
    "\n",
    "\n",
    "class LRFinder(Callback):\n",
    "    \"\"\"Callback that exponentially adjusts the learning rate after each training batch between start_lr and\n",
    "    end_lr for a maximum number of batches: max_step. The loss and learning rate are recorded at each step allowing\n",
    "    visually finding a good learning rate as per https://sgugger.github.io/how-do-you-find-a-good-learning-rate.html via\n",
    "    the plot method.\n",
    "    \"\"\"\n",
    "\n",
    "    def __init__(self, start_lr: float = 1e-7, end_lr: float = 10, max_steps: int = 100, smoothing=0.9):\n",
    "        super(LRFinder, self).__init__()\n",
    "        self.start_lr, self.end_lr = start_lr, end_lr\n",
    "        self.max_steps = max_steps\n",
    "        self.smoothing = smoothing\n",
    "        self.step, self.best_loss, self.avg_loss, self.lr = 0, 0, 0, 0\n",
    "        self.lrs, self.losses = [], []\n",
    "\n",
    "    def on_train_begin(self, logs=None):\n",
    "        self.step, self.best_loss, self.avg_loss, self.lr = 0, 0, 0, 0\n",
    "        self.lrs, self.losses = [], []\n",
    "\n",
    "    def on_train_batch_begin(self, batch, logs=None):\n",
    "        self.lr = self.exp_annealing(self.step)\n",
    "        tf.keras.backend.set_value(self.model.optimizer.lr, self.lr)\n",
    "\n",
    "    def on_train_batch_end(self, batch, logs=None):\n",
    "        logs = logs or {}\n",
    "        loss = logs.get('loss')\n",
    "        step = self.step\n",
    "        if loss:\n",
    "            self.avg_loss = self.smoothing * self.avg_loss + (1 - self.smoothing) * loss\n",
    "            smooth_loss = self.avg_loss / (1 - self.smoothing ** (self.step + 1))\n",
    "            self.losses.append(smooth_loss)\n",
    "            self.lrs.append(self.lr)\n",
    "\n",
    "            if step == 0 or loss < self.best_loss:\n",
    "                self.best_loss = loss\n",
    "\n",
    "            if smooth_loss > 4 * self.best_loss or tf.math.is_nan(smooth_loss):\n",
    "                self.model.stop_training = True\n",
    "\n",
    "        if step == self.max_steps:\n",
    "            self.model.stop_training = True\n",
    "\n",
    "        self.step += 1\n",
    "\n",
    "    def exp_annealing(self, step):\n",
    "        return self.start_lr * (self.end_lr / self.start_lr) ** (step * 1. / self.max_steps)\n",
    "\n",
    "    def plot(self):\n",
    "        fig, ax = plt.subplots(1, 1)\n",
    "        ax.set_ylabel('Loss')\n",
    "        ax.set_xlabel('Learning Rate (log scale)')\n",
    "        ax.set_xscale('log')\n",
    "        ax.xaxis.set_major_formatter(plt.FormatStrFormatter('%.0e'))\n",
    "        ax.plot(self.lrs, self.losses)"
   ]
  },
  {
   "cell_type": "code",
   "execution_count": 9,
   "metadata": {
    "scrolled": true
   },
   "outputs": [
    {
     "name": "stdout",
     "output_type": "stream",
     "text": [
      "WARNING:tensorflow:From <ipython-input-9-a51e75f8f0eb>:15: Model.fit_generator (from tensorflow.python.keras.engine.training) is deprecated and will be removed in a future version.\n",
      "Instructions for updating:\n",
      "Please use Model.fit, which supports generators.\n",
      "Epoch 1/50\n",
      " 2/13 [===>..........................] - ETA: 0s - loss: 0.7118 - acc: 0.1328WARNING:tensorflow:Callbacks method `on_train_batch_end` is slow compared to the batch time (batch time: 0.0598s vs `on_train_batch_end` time: 0.1044s). Check your callbacks.\n",
      "13/13 [==============================] - 3s 222ms/step - loss: 0.6985 - acc: 0.3826 - val_loss: 0.6751 - val_acc: 0.8554\n",
      "Epoch 2/50\n",
      "13/13 [==============================] - 3s 195ms/step - loss: 0.6288 - acc: 0.8612 - val_loss: 0.5189 - val_acc: 0.8554\n",
      "Epoch 3/50\n",
      "13/13 [==============================] - 3s 200ms/step - loss: 0.4629 - acc: 0.8612 - val_loss: 0.4251 - val_acc: 0.8554\n",
      "Epoch 4/50\n",
      "13/13 [==============================] - 3s 197ms/step - loss: 0.5321 - acc: 0.8003 - val_loss: 0.4542 - val_acc: 0.8554\n",
      "Epoch 5/50\n",
      "13/13 [==============================] - 3s 202ms/step - loss: 0.6888 - acc: 0.6706 - val_loss: 0.6420 - val_acc: 0.8554\n",
      "Epoch 6/50\n",
      "13/13 [==============================] - 3s 204ms/step - loss: 25.7365 - acc: 0.8534 - val_loss: 0.4137 - val_acc: 0.8554\n"
     ]
    }
   ],
   "source": [
    "\"\"\"\n",
    "class myCallback(tf.keras.callbacks.Callback):\n",
    "    def on_epoch_end(self, epoch, logs={}):\n",
    "        if(logs.get('acc')>0.999):\n",
    "            print(\"\\nReached 99.9% accuracy so cancelling training\")\n",
    "            self.model.stop_training = True\n",
    "\"\"\"\n",
    "\n",
    "model.compile(optimizer=tf.keras.optimizers.RMSprop(),\n",
    "              loss='binary_crossentropy',\n",
    "              metrics=[\"acc\"])\n",
    "\n",
    "lr_finder = LRFinder()\n",
    "\n",
    "history = model.fit_generator(train_generator,\n",
    "                              epochs=50,\n",
    "                              validation_data=test_generator,\n",
    "                              callbacks = [lr_finder])"
   ]
  },
  {
   "cell_type": "code",
   "execution_count": 10,
   "metadata": {},
   "outputs": [
    {
     "data": {
      "image/png": "[encoded data removed]",
      "text/plain": [
       "<Figure size 432x288 with 1 Axes>"
      ]
     },
     "metadata": {
      "needs_background": "light"
     },
     "output_type": "display_data"
    }
   ],
   "source": [
    "import matplotlib.pyplot as plt\n",
    "\n",
    "lr_finder.plot()"
   ]
  },
  {
   "cell_type": "code",
   "execution_count": 19,
   "metadata": {},
   "outputs": [
    {
     "data": {
      "image/png": "[encoded data removed]",
      "text/plain": [
       "<Figure size 432x288 with 1 Axes>"
      ]
     },
     "metadata": {
      "needs_background": "light"
     },
     "output_type": "display_data"
    },
    {
     "data": {
      "image/png": "[encoded data removed]",
      "text/plain": [
       "<Figure size 432x288 with 1 Axes>"
      ]
     },
     "metadata": {
      "needs_background": "light"
     },
     "output_type": "display_data"
    }
   ],
   "source": [
    "import matplotlib.pyplot as plt\n",
    "\n",
    "def plot_graphs(history, string):\n",
    "    plt.plot(history.history[string])\n",
    "    plt.plot(history.history['val_'+string])\n",
    "    plt.xlabel(\"Epochs\")\n",
    "    plt.ylabel(string)\n",
    "    plt.legend([string, 'val_'+string])\n",
    "    plt.show()\n",
    "    \n",
    "plot_graphs(history, \"acc\")\n",
    "plot_graphs(history, \"loss\")"
   ]
  },
  {
   "cell_type": "code",
   "execution_count": 11,
   "metadata": {
    "scrolled": false
   },
   "outputs": [],
   "source": [
    "# delete the data\n",
    "\n",
    "shutil.rmtree('/tmp/Liver_'+equipment)"
   ]
  },
  {
   "cell_type": "code",
   "execution_count": null,
   "metadata": {},
   "outputs": [],
   "source": [
    "import os, signal\n",
    "\n",
    "os.kill(os.getpid(),signal.SIGKILL)"
   ]
  },
  {
   "cell_type": "code",
   "execution_count": null,
   "metadata": {},
   "outputs": [],
   "source": []
  }
 ],
 "metadata": {
  "kernelspec": {
   "display_name": "Python 3",
   "language": "python",
   "name": "python3"
  },
  "language_info": {
   "codemirror_mode": {
    "name": "ipython",
    "version": 3
   },
   "file_extension": ".py",
   "mimetype": "text/x-python",
   "name": "python",
   "nbconvert_exporter": "python",
   "pygments_lexer": "ipython3",
   "version": "3.8.3"
  }
 },
 "nbformat": 4,
 "nbformat_minor": 4
}
