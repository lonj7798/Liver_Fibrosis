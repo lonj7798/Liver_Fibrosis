{
 "cells": [
  {
   "cell_type": "code",
   "execution_count": 1,
   "metadata": {},
   "outputs": [],
   "source": [
    "import pandas as pd"
   ]
  },
  {
   "cell_type": "code",
   "execution_count": 2,
   "metadata": {},
   "outputs": [],
   "source": [
    "data = pd.read_csv(\"data.csv\")"
   ]
  },
  {
   "cell_type": "code",
   "execution_count": 5,
   "metadata": {},
   "outputs": [],
   "source": [
    "import numpy as np\n",
    "\n",
    "data.Fibrosis = data.Fibrosis.replace('-', np.NaN)"
   ]
  },
  {
   "cell_type": "code",
   "execution_count": 6,
   "metadata": {},
   "outputs": [],
   "source": [
    "data.Fibrosis = pd.to_numeric(data.Fibrosis)"
   ]
  },
  {
   "cell_type": "code",
   "execution_count": 11,
   "metadata": {},
   "outputs": [],
   "source": [
    "f_false = data[data['Fibrosis'] == 0].number.astype(str).tolist()\n",
    "f_true = data[data['Fibrosis'] != 0].number.astype(str).tolist()"
   ]
  },
  {
   "cell_type": "code",
   "execution_count": 12,
   "metadata": {},
   "outputs": [],
   "source": [
    "def fill_zero(f):\n",
    "    for i in range(len(f)):\n",
    "        f[i] = f[i].zfill(4)\n",
    "    \n",
    "    return f"
   ]
  },
  {
   "cell_type": "code",
   "execution_count": 13,
   "metadata": {},
   "outputs": [],
   "source": [
    "f_false = fill_zero(f_false)\n",
    "f_true = fill_zero(f_true)"
   ]
  },
  {
   "cell_type": "code",
   "execution_count": 14,
   "metadata": {},
   "outputs": [],
   "source": [
    "import zipfile"
   ]
  },
  {
   "cell_type": "code",
   "execution_count": 15,
   "metadata": {},
   "outputs": [],
   "source": [
    "local_zip = '../../../Data/Liver.zip'\n",
    "zip_ref = zipfile.ZipFile(local_zip, 'r')\n",
    "zip_ref.extractall('/tmp')\n",
    "zip_ref.close()"
   ]
  },
  {
   "cell_type": "code",
   "execution_count": 16,
   "metadata": {},
   "outputs": [],
   "source": [
    "base_dir = '/tmp/'"
   ]
  },
  {
   "cell_type": "code",
   "execution_count": 17,
   "metadata": {},
   "outputs": [],
   "source": [
    "import os\n",
    "import shutil\n",
    "\n",
    "folder_loc = '../../../Data/Liver/'\n",
    "\n",
    "def move_to(f_, num):\n",
    "    new_name = 0\n",
    "    for folder_name in f_:\n",
    "        for root, subdirs, files in os.walk(base_dir+folder_name):\n",
    "            for f in files:\n",
    "                if 'mask' not in f:\n",
    "                    # file_name change\n",
    "                    try:\n",
    "                        file_to_change = os.path.join(root, f)\n",
    "                        dst = str(new_name)+'.tif'\n",
    "                        dst = os.path.join(root, dst)\n",
    "                        os.rename(file_to_change, dst)\n",
    "                        new_name += 1\n",
    "                    \n",
    "                        # file move\n",
    "                        shutil.move(dst, folder_loc+num)\n",
    "                    except:\n",
    "                        print('error')"
   ]
  },
  {
   "cell_type": "code",
   "execution_count": 18,
   "metadata": {},
   "outputs": [],
   "source": [
    "move_to(f_false, 'fibrosis_false')\n",
    "move_to(f_true, 'fibrosis_true')"
   ]
  },
  {
   "cell_type": "code",
   "execution_count": null,
   "metadata": {},
   "outputs": [],
   "source": []
  }
 ],
 "metadata": {
  "kernelspec": {
   "display_name": "Python 3",
   "language": "python",
   "name": "python3"
  },
  "language_info": {
   "codemirror_mode": {
    "name": "ipython",
    "version": 3
   },
   "file_extension": ".py",
   "mimetype": "text/x-python",
   "name": "python",
   "nbconvert_exporter": "python",
   "pygments_lexer": "ipython3",
   "version": "3.8.3"
  }
 },
 "nbformat": 4,
 "nbformat_minor": 4
}
