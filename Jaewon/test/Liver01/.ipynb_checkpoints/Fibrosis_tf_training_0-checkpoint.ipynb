{
 "cells": [
  {
   "cell_type": "code",
   "execution_count": 1,
   "metadata": {},
   "outputs": [],
   "source": [
    "import os\n",
    "from os import getcwd\n",
    "\n",
    "import tensorflow as tf"
   ]
  },
  {
   "cell_type": "code",
   "execution_count": 2,
   "metadata": {},
   "outputs": [],
   "source": [
    "# f0 = fibrosis false\n",
    "# f1 = fibrosis true\n",
    "\n",
    "try:\n",
    "    os.mkdir('/tmp/Liver_tf')\n",
    "    os.mkdir('/tmp/Liver_tf/training')\n",
    "    os.mkdir('/tmp/Liver_tf/training/f0')\n",
    "    os.mkdir('/tmp/Liver_tf/training/f1')\n",
    "    os.mkdir('/tmp/Liver_tf/testing')\n",
    "    os.mkdir('/tmp/Liver_tf/testing/f0')\n",
    "    os.mkdir('/tmp/Liver_tf/testing/f1')\n",
    "    \n",
    "except OSError:\n",
    "    pass"
   ]
  },
  {
   "cell_type": "code",
   "execution_count": 3,
   "metadata": {},
   "outputs": [],
   "source": [
    "import random\n",
    "from shutil import copyfile\n",
    "\n",
    "def split_data(SOURCE, TRAINING, TESTING, SPLIT_SIZE):\n",
    "    dataset = []\n",
    "    \n",
    "    for unitData in os.listdir(SOURCE):\n",
    "        data = SOURCE + unitData\n",
    "        if(os.path.getsize(data) > 0):\n",
    "            dataset.append(unitData)\n",
    "        else:\n",
    "            print('Skipped ' + unitData)\n",
    "            print('Invalid file i.e zero size')\n",
    "    \n",
    "    train_set_length = int(len(dataset) * SPLIT_SIZE)\n",
    "    test_set_length = int(len(dataset) - train_set_length)\n",
    "    shuffled_set = random.sample(dataset, len(dataset))\n",
    "    train_set = dataset[0:train_set_length]\n",
    "    test_set = dataset[-test_set_length:]\n",
    "       \n",
    "    for unitData in train_set:\n",
    "        temp_train_set = SOURCE + unitData\n",
    "        final_train_set = TRAINING + unitData\n",
    "        copyfile(temp_train_set, final_train_set)\n",
    "    \n",
    "    for unitData in test_set:\n",
    "        temp_test_set = SOURCE + unitData\n",
    "        final_test_set = TESTING + unitData\n",
    "        copyfile(temp_test_set, final_test_set)"
   ]
  },
  {
   "cell_type": "code",
   "execution_count": 4,
   "metadata": {},
   "outputs": [],
   "source": [
    "F0_SOURCE_DIR = \"../../../Data/Liver/fibrosis_false/\"\n",
    "TRAINING_F0_DIR = \"/tmp/Liver_tf/training/f0/\"\n",
    "TESTING_F0_DIR = \"/tmp/Liver_tf/testing/f0/\"\n",
    "\n",
    "F1_SOURCE_DIR = \"../../../Data/Liver/fibrosis_true/\"\n",
    "TRAINING_F1_DIR = \"/tmp/Liver_tf/training/f1/\"\n",
    "TESTING_F1_DIR = \"/tmp/Liver_tf/testing/f1/\"\n",
    "\n",
    "split_size = .8\n",
    "\n",
    "split_data(F0_SOURCE_DIR, TRAINING_F0_DIR, TESTING_F0_DIR, split_size)\n",
    "split_data(F1_SOURCE_DIR, TRAINING_F1_DIR, TESTING_F1_DIR, 0.7)"
   ]
  },
  {
   "cell_type": "code",
   "execution_count": 5,
   "metadata": {
    "scrolled": true
   },
   "outputs": [
    {
     "name": "stdout",
     "output_type": "stream",
     "text": [
      "Training Fibrosis 0: 1000\n",
      "Testing Fibrosis 0: 223\n",
      "--------------------\n",
      "Training Fibrosis 1: 1774\n",
      "Testing Fibrosis 1: 592\n",
      "--------------------\n"
     ]
    }
   ],
   "source": [
    "print(\"Training Fibrosis 0:\", len(os.listdir(TRAINING_F0_DIR)))\n",
    "print(\"Testing Fibrosis 0:\", len(os.listdir(TESTING_F0_DIR)))\n",
    "print(\"-\"*20)\n",
    "print(\"Training Fibrosis 1:\", len(os.listdir(TRAINING_F1_DIR)))\n",
    "print(\"Testing Fibrosis 1:\", len(os.listdir(TESTING_F1_DIR)))\n",
    "print(\"-\"*20)"
   ]
  },
  {
   "cell_type": "code",
   "execution_count": 6,
   "metadata": {},
   "outputs": [
    {
     "name": "stdout",
     "output_type": "stream",
     "text": [
      "Found 2774 images belonging to 2 classes.\n",
      "Found 815 images belonging to 2 classes.\n"
     ]
    }
   ],
   "source": [
    "from tensorflow.keras.preprocessing.image import ImageDataGenerator \n",
    "\n",
    "TRAINING_DIR = '/tmp/Liver_tf/training'\n",
    "train_datagen = ImageDataGenerator(rescale = 1.0/255.)\n",
    "\n",
    "train_generator = train_datagen.flow_from_directory(TRAINING_DIR,\n",
    "                                                   batch_size=64,\n",
    "                                                   class_mode='binary',\n",
    "                                                   target_size=(600,800),\n",
    "                                                   color_mode='grayscale') # target_size = (height, width)\n",
    "\n",
    "TESTING_DIR = '/tmp/Liver_tf/testing'\n",
    "test_datagen = ImageDataGenerator(rescale = 1.0/255.)\n",
    "\n",
    "test_generator = train_datagen.flow_from_directory(TESTING_DIR,\n",
    "                                                   batch_size=32,\n",
    "                                                   class_mode='binary',\n",
    "                                                   target_size=(600,800), \n",
    "                                                   color_mode='grayscale')"
   ]
  },
  {
   "cell_type": "code",
   "execution_count": 7,
   "metadata": {},
   "outputs": [],
   "source": [
    "model = tf.keras.models.Sequential([\n",
    "    tf.keras.layers.Conv2D(6, (5,5), activation='relu', input_shape=(600,800,1)),\n",
    "    tf.keras.layers.AveragePooling2D(pool_size=(2, 2), strides=(2, 2), padding='valid'),\n",
    "    tf.keras.layers.Conv2D(16, (5,5), activation='relu'),\n",
    "    tf.keras.layers.AveragePooling2D(pool_size=(2, 2), strides=(2, 2), padding='valid'),\n",
    "    tf.keras.layers.Flatten(),\n",
    "    tf.keras.layers.Dense(128, activation='relu'),\n",
    "    tf.keras.layers.Dense(64, activation='relu'),\n",
    "    tf.keras.layers.Dense(32, activation='relu'),\n",
    "    tf.keras.layers.Dense(1, activation='sigmoid')\n",
    "])"
   ]
  },
  {
   "cell_type": "code",
   "execution_count": 8,
   "metadata": {},
   "outputs": [
    {
     "name": "stdout",
     "output_type": "stream",
     "text": [
      "Model: \"sequential\"\n",
      "_________________________________________________________________\n",
      "Layer (type)                 Output Shape              Param #   \n",
      "=================================================================\n",
      "conv2d (Conv2D)              (None, 596, 796, 6)       156       \n",
      "_________________________________________________________________\n",
      "average_pooling2d (AveragePo (None, 298, 398, 6)       0         \n",
      "_________________________________________________________________\n",
      "conv2d_1 (Conv2D)            (None, 294, 394, 16)      2416      \n",
      "_________________________________________________________________\n",
      "average_pooling2d_1 (Average (None, 147, 197, 16)      0         \n",
      "_________________________________________________________________\n",
      "flatten (Flatten)            (None, 463344)            0         \n",
      "_________________________________________________________________\n",
      "dense (Dense)                (None, 128)               59308160  \n",
      "_________________________________________________________________\n",
      "dense_1 (Dense)              (None, 64)                8256      \n",
      "_________________________________________________________________\n",
      "dense_2 (Dense)              (None, 32)                2080      \n",
      "_________________________________________________________________\n",
      "dense_3 (Dense)              (None, 1)                 33        \n",
      "=================================================================\n",
      "Total params: 59,321,101\n",
      "Trainable params: 59,321,101\n",
      "Non-trainable params: 0\n",
      "_________________________________________________________________\n"
     ]
    }
   ],
   "source": [
    "model.summary()"
   ]
  },
  {
   "cell_type": "code",
   "execution_count": 9,
   "metadata": {
    "scrolled": false
   },
   "outputs": [
    {
     "name": "stdout",
     "output_type": "stream",
     "text": [
      "WARNING:tensorflow:From <ipython-input-9-e7c2364e1883>:5: Model.fit_generator (from tensorflow.python.keras.engine.training) is deprecated and will be removed in a future version.\n",
      "Instructions for updating:\n",
      "Please use Model.fit, which supports generators.\n",
      "Epoch 1/30\n",
      " 2/44 [>.............................] - ETA: 3s - loss: 19.6756 - acc: 0.6641WARNING:tensorflow:Callbacks method `on_train_batch_end` is slow compared to the batch time (batch time: 0.0598s vs `on_train_batch_end` time: 0.1009s). Check your callbacks.\n",
      "44/44 [==============================] - 9s 214ms/step - loss: 2.1902 - acc: 0.6565 - val_loss: 0.5057 - val_acc: 0.7129\n",
      "Epoch 2/30\n",
      "44/44 [==============================] - 9s 204ms/step - loss: 0.5090 - acc: 0.7509 - val_loss: 0.4238 - val_acc: 0.8012\n",
      "Epoch 3/30\n",
      "44/44 [==============================] - 9s 207ms/step - loss: 0.4597 - acc: 0.7945 - val_loss: 0.3596 - val_acc: 0.8380\n",
      "Epoch 4/30\n",
      "44/44 [==============================] - 9s 205ms/step - loss: 0.3732 - acc: 0.8407 - val_loss: 0.2939 - val_acc: 0.8945\n",
      "Epoch 5/30\n",
      "44/44 [==============================] - 9s 206ms/step - loss: 0.2812 - acc: 0.8983 - val_loss: 0.2648 - val_acc: 0.8883\n",
      "Epoch 6/30\n",
      "44/44 [==============================] - 9s 205ms/step - loss: 0.1451 - acc: 0.9477 - val_loss: 0.2261 - val_acc: 0.9141\n",
      "Epoch 7/30\n",
      "44/44 [==============================] - 9s 205ms/step - loss: 0.0830 - acc: 0.9737 - val_loss: 0.2348 - val_acc: 0.9166\n",
      "Epoch 8/30\n",
      "44/44 [==============================] - 9s 206ms/step - loss: 0.1937 - acc: 0.9719 - val_loss: 0.2794 - val_acc: 0.9190\n",
      "Epoch 9/30\n",
      "44/44 [==============================] - 9s 207ms/step - loss: 0.0495 - acc: 0.9834 - val_loss: 0.2907 - val_acc: 0.9288\n",
      "Epoch 10/30\n",
      "44/44 [==============================] - 9s 206ms/step - loss: 0.5646 - acc: 0.9672 - val_loss: 0.2550 - val_acc: 0.9190\n",
      "Epoch 11/30\n",
      "44/44 [==============================] - 9s 209ms/step - loss: 0.0019 - acc: 1.0000 - val_loss: 0.6650 - val_acc: 0.9031\n",
      "Epoch 12/30\n",
      "44/44 [==============================] - 9s 208ms/step - loss: 0.3038 - acc: 0.9852 - val_loss: 0.3186 - val_acc: 0.9215\n",
      "Epoch 13/30\n",
      "44/44 [==============================] - 9s 207ms/step - loss: 1.4251e-04 - acc: 1.0000 - val_loss: 0.4025 - val_acc: 0.9190\n",
      "Epoch 14/30\n",
      "44/44 [==============================] - 9s 207ms/step - loss: 1.1033e-05 - acc: 1.0000 - val_loss: 0.5063 - val_acc: 0.9215\n",
      "Epoch 15/30\n",
      "44/44 [==============================] - 9s 207ms/step - loss: 1.2762e-06 - acc: 1.0000 - val_loss: 0.7747 - val_acc: 0.9092\n",
      "Epoch 16/30\n",
      "44/44 [==============================] - 9s 206ms/step - loss: 1.0044 - acc: 0.9668 - val_loss: 0.3420 - val_acc: 0.9215\n",
      "Epoch 17/30\n",
      "44/44 [==============================] - 9s 211ms/step - loss: 1.6806e-04 - acc: 1.0000 - val_loss: 0.4277 - val_acc: 0.9252\n",
      "Epoch 18/30\n",
      "44/44 [==============================] - 9s 207ms/step - loss: 0.2855 - acc: 0.9766 - val_loss: 0.2896 - val_acc: 0.9325\n",
      "Epoch 19/30\n",
      "44/44 [==============================] - 9s 206ms/step - loss: 3.8606e-04 - acc: 1.0000 - val_loss: 4.6352 - val_acc: 0.6650\n",
      "Epoch 20/30\n",
      "44/44 [==============================] - 9s 206ms/step - loss: 0.2890 - acc: 0.9672 - val_loss: 0.3803 - val_acc: 0.9264\n",
      "Epoch 21/30\n",
      "44/44 [==============================] - 9s 205ms/step - loss: 4.1037e-05 - acc: 1.0000 - val_loss: 0.5012 - val_acc: 0.9227\n",
      "Epoch 22/30\n",
      "44/44 [==============================] - 9s 207ms/step - loss: 6.6251e-06 - acc: 1.0000 - val_loss: 0.4998 - val_acc: 0.9202\n",
      "Epoch 23/30\n",
      "44/44 [==============================] - 9s 206ms/step - loss: 7.2709e-07 - acc: 1.0000 - val_loss: 0.6043 - val_acc: 0.9202\n",
      "Epoch 24/30\n",
      "44/44 [==============================] - 9s 207ms/step - loss: 0.5704 - acc: 0.9755 - val_loss: 0.3529 - val_acc: 0.9202\n",
      "Epoch 25/30\n",
      "44/44 [==============================] - 9s 207ms/step - loss: 0.7259 - acc: 0.9650 - val_loss: 0.3767 - val_acc: 0.9129\n",
      "Epoch 26/30\n",
      "44/44 [==============================] - 9s 211ms/step - loss: 0.0041 - acc: 0.9993 - val_loss: 0.4445 - val_acc: 0.9190\n",
      "Epoch 27/30\n",
      "44/44 [==============================] - 10s 216ms/step - loss: 1.6737e-05 - acc: 1.0000 - val_loss: 0.5190 - val_acc: 0.9227\n",
      "Epoch 28/30\n",
      "44/44 [==============================] - 9s 210ms/step - loss: 1.9165e-06 - acc: 1.0000 - val_loss: 0.6006 - val_acc: 0.9227\n",
      "Epoch 29/30\n",
      "44/44 [==============================] - 10s 218ms/step - loss: 3.4316e-07 - acc: 1.0000 - val_loss: 0.6553 - val_acc: 0.9227\n",
      "Epoch 30/30\n",
      "44/44 [==============================] - 10s 222ms/step - loss: 5.8840e-08 - acc: 1.0000 - val_loss: 0.7451 - val_acc: 0.9166\n"
     ]
    }
   ],
   "source": [
    "model.compile(optimizer=tf.keras.optimizers.RMSprop(lr=0.001),\n",
    "              loss='binary_crossentropy',\n",
    "              metrics=[\"acc\"])\n",
    "\n",
    "history = model.fit_generator(train_generator,\n",
    "                              epochs=30,\n",
    "                              validation_data=test_generator)"
   ]
  },
  {
   "cell_type": "code",
   "execution_count": 10,
   "metadata": {},
   "outputs": [
    {
     "data": {
      "image/png": "[encoded data removed]",
      "text/plain": [
       "<Figure size 432x288 with 1 Axes>"
      ]
     },
     "metadata": {
      "needs_background": "light"
     },
     "output_type": "display_data"
    },
    {
     "data": {
      "image/png": "[encoded data removed]",
      "text/plain": [
       "<Figure size 432x288 with 1 Axes>"
      ]
     },
     "metadata": {
      "needs_background": "light"
     },
     "output_type": "display_data"
    }
   ],
   "source": [
    "import matplotlib.pyplot as plt\n",
    "\n",
    "def plot_graphs(history, string):\n",
    "    plt.plot(history.history[string])\n",
    "    plt.plot(history.history['val_'+string])\n",
    "    plt.xlabel(\"Epochs\")\n",
    "    plt.ylabel(string)\n",
    "    plt.legend([string, 'val_'+string])\n",
    "    plt.show()\n",
    "    \n",
    "plot_graphs(history, \"acc\")\n",
    "plot_graphs(history, \"loss\")"
   ]
  },
  {
   "cell_type": "code",
   "execution_count": null,
   "metadata": {},
   "outputs": [],
   "source": [
    "import os, signal\n",
    "\n",
    "os.kill(os.getpid(),signal.SIGKILL)"
   ]
  },
  {
   "cell_type": "code",
   "execution_count": null,
   "metadata": {},
   "outputs": [],
   "source": []
  }
 ],
 "metadata": {
  "kernelspec": {
   "display_name": "Python 3",
   "language": "python",
   "name": "python3"
  },
  "language_info": {
   "codemirror_mode": {
    "name": "ipython",
    "version": 3
   },
   "file_extension": ".py",
   "mimetype": "text/x-python",
   "name": "python",
   "nbconvert_exporter": "python",
   "pygments_lexer": "ipython3",
   "version": "3.8.3"
  }
 },
 "nbformat": 4,
 "nbformat_minor": 4
}
