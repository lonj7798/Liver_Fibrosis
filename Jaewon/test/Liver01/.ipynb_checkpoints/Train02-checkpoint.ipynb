{
 "cells": [
  {
   "cell_type": "code",
   "execution_count": 1,
   "metadata": {},
   "outputs": [],
   "source": [
    "import os\n",
    "from os import getcwd\n",
    "\n",
    "import tensorflow as tf"
   ]
  },
  {
   "cell_type": "code",
   "execution_count": 2,
   "metadata": {},
   "outputs": [],
   "source": [
    "try:\n",
    "    os.mkdir('/tmp/Liver')\n",
    "    os.mkdir('/tmp/Liver/training')\n",
    "    os.mkdir('/tmp/Liver/training/f0')\n",
    "    os.mkdir('/tmp/Liver/training/f1')\n",
    "    os.mkdir('/tmp/Liver/training/f2')\n",
    "    os.mkdir('/tmp/Liver/training/f3')\n",
    "    os.mkdir('/tmp/Liver/training/f4')\n",
    "    os.mkdir('/tmp/Liver/testing')\n",
    "    os.mkdir('/tmp/Liver/testing/f0')\n",
    "    os.mkdir('/tmp/Liver/testing/f1')\n",
    "    os.mkdir('/tmp/Liver/testing/f2')\n",
    "    os.mkdir('/tmp/Liver/testing/f3')\n",
    "    os.mkdir('/tmp/Liver/testing/f4')\n",
    "    \n",
    "    #YOUR CODE GOES HERE\n",
    "except OSError:\n",
    "    pass"
   ]
  },
  {
   "cell_type": "code",
   "execution_count": 3,
   "metadata": {},
   "outputs": [],
   "source": [
    "import random\n",
    "from shutil import copyfile\n",
    "\n",
    "def split_data(SOURCE, TRAINING, TESTING, SPLIT_SIZE):\n",
    "    dataset = []\n",
    "    \n",
    "    for unitData in os.listdir(SOURCE):\n",
    "        data = SOURCE + unitData\n",
    "        if(os.path.getsize(data) > 0):\n",
    "            dataset.append(unitData)\n",
    "        else:\n",
    "            print('Skipped ' + unitData)\n",
    "            print('Invalid file i.e zero size')\n",
    "    \n",
    "    train_set_length = int(len(dataset) * SPLIT_SIZE)\n",
    "    test_set_length = int(len(dataset) - train_set_length)\n",
    "    shuffled_set = random.sample(dataset, len(dataset))\n",
    "    train_set = dataset[0:train_set_length]\n",
    "    test_set = dataset[-test_set_length:]\n",
    "       \n",
    "    for unitData in train_set:\n",
    "        temp_train_set = SOURCE + unitData\n",
    "        final_train_set = TRAINING + unitData\n",
    "        copyfile(temp_train_set, final_train_set)\n",
    "    \n",
    "    for unitData in test_set:\n",
    "        temp_test_set = SOURCE + unitData\n",
    "        final_test_set = TESTING + unitData\n",
    "        copyfile(temp_test_set, final_test_set)"
   ]
  },
  {
   "cell_type": "code",
   "execution_count": 4,
   "metadata": {},
   "outputs": [],
   "source": [
    "F0_SOURCE_DIR = \"../../../Data/Liver/0/\"\n",
    "TRAINING_F0_DIR = \"/tmp/Liver/training/f0/\"\n",
    "TESTING_F0_DIR = \"/tmp/Liver/testing/f0/\"\n",
    "\n",
    "F1_SOURCE_DIR = \"../../../Data/Liver/1/\"\n",
    "TRAINING_F1_DIR = \"/tmp/Liver/training/f1/\"\n",
    "TESTING_F1_DIR = \"/tmp/Liver/testing/f1/\"\n",
    "\n",
    "F2_SOURCE_DIR = \"../../../Data/Liver/2/\"\n",
    "TRAINING_F2_DIR = \"/tmp/Liver/training/f2/\"\n",
    "TESTING_F2_DIR = \"/tmp/Liver/testing/f2/\"\n",
    "\n",
    "F3_SOURCE_DIR = \"../../../Data/Liver/3/\"\n",
    "TRAINING_F3_DIR = \"/tmp/Liver/training/f3/\"\n",
    "TESTING_F3_DIR = \"/tmp/Liver/testing/f3/\"\n",
    "\n",
    "F4_SOURCE_DIR = \"../../../Data/Liver/4/\"\n",
    "TRAINING_F4_DIR = \"/tmp/Liver/training/f4/\"\n",
    "TESTING_F4_DIR = \"/tmp/Liver/testing/f4/\"\n",
    "\n",
    "split_size = .85\n",
    "\n",
    "split_data(F0_SOURCE_DIR, TRAINING_F0_DIR, TESTING_F0_DIR, split_size)\n",
    "split_data(F1_SOURCE_DIR, TRAINING_F1_DIR, TESTING_F1_DIR, split_size)\n",
    "split_data(F2_SOURCE_DIR, TRAINING_F2_DIR, TESTING_F2_DIR, split_size)\n",
    "split_data(F3_SOURCE_DIR, TRAINING_F3_DIR, TESTING_F3_DIR, split_size)\n",
    "split_data(F4_SOURCE_DIR, TRAINING_F4_DIR, TESTING_F4_DIR, split_size)"
   ]
  },
  {
   "cell_type": "code",
   "execution_count": 5,
   "metadata": {
    "scrolled": true
   },
   "outputs": [
    {
     "name": "stdout",
     "output_type": "stream",
     "text": [
      "Training Fibrosis 0: 945\n",
      "Testing Fibrosis 0: 167\n",
      "--------------------\n",
      "Training Fibrosis 1: 118\n",
      "Testing Fibrosis 1: 21\n",
      "--------------------\n",
      "Training Fibrosis 2: 114\n",
      "Testing Fibrosis 2: 21\n",
      "--------------------\n",
      "Training Fibrosis 3: 384\n",
      "Testing Fibrosis 3: 68\n",
      "--------------------\n",
      "Training Fibrosis 4: 774\n",
      "Testing Fibrosis 4: 137\n",
      "--------------------\n"
     ]
    }
   ],
   "source": [
    "print(\"Training Fibrosis 0:\", len(os.listdir(TRAINING_F0_DIR)))\n",
    "print(\"Testing Fibrosis 0:\", len(os.listdir(TESTING_F0_DIR)))\n",
    "print(\"-\"*20)\n",
    "print(\"Training Fibrosis 1:\", len(os.listdir(TRAINING_F1_DIR)))\n",
    "print(\"Testing Fibrosis 1:\", len(os.listdir(TESTING_F1_DIR)))\n",
    "print(\"-\"*20)\n",
    "print(\"Training Fibrosis 2:\", len(os.listdir(TRAINING_F2_DIR)))\n",
    "print(\"Testing Fibrosis 2:\", len(os.listdir(TESTING_F2_DIR)))\n",
    "print(\"-\"*20)\n",
    "print(\"Training Fibrosis 3:\", len(os.listdir(TRAINING_F3_DIR)))\n",
    "print(\"Testing Fibrosis 3:\", len(os.listdir(TESTING_F3_DIR)))\n",
    "print(\"-\"*20)\n",
    "print(\"Training Fibrosis 4:\", len(os.listdir(TRAINING_F4_DIR)))\n",
    "print(\"Testing Fibrosis 4:\", len(os.listdir(TESTING_F4_DIR)))\n",
    "print(\"-\"*20)"
   ]
  },
  {
   "cell_type": "code",
   "execution_count": 6,
   "metadata": {},
   "outputs": [],
   "source": [
    "class myCallback(tf.keras.callbacks.Callback):\n",
    "    def on_epoch_end(self, epoch, logs={}):\n",
    "        if(logs.get('acc')>0.99):\n",
    "            print(\"\\nReached 99.0% accuracy so cancelling training!\")\n",
    "            self.model.stop_training = True"
   ]
  },
  {
   "cell_type": "code",
   "execution_count": 7,
   "metadata": {},
   "outputs": [],
   "source": [
    "from tensorflow.keras.optimizers import SGD, RMSprop"
   ]
  },
  {
   "cell_type": "code",
   "execution_count": 8,
   "metadata": {},
   "outputs": [],
   "source": [
    "model = tf.keras.models.Sequential([\n",
    "    tf.keras.layers.Conv2D(16, (3,3), activation='relu', input_shape=(600,800,1)),\n",
    "    tf.keras.layers.BatchNormalization(),\n",
    "    tf.keras.layers.MaxPooling2D(2,2),\n",
    "    tf.keras.layers.Conv2D(32, (3,3), activation='relu'),\n",
    "    tf.keras.layers.BatchNormalization(),\n",
    "    tf.keras.layers.MaxPooling2D(2,2),\n",
    "    tf.keras.layers.Conv2D(64, (3,3), activation='relu'),\n",
    "    tf.keras.layers.BatchNormalization(),\n",
    "    tf.keras.layers.MaxPooling2D(2,2),\n",
    "    tf.keras.layers.Conv2D(64, (3,3), activation='relu'),\n",
    "    tf.keras.layers.BatchNormalization(),\n",
    "    tf.keras.layers.MaxPooling2D(2,2),\n",
    "    tf.keras.layers.Conv2D(128, (3,3), activation='relu'),\n",
    "    tf.keras.layers.BatchNormalization(),\n",
    "    tf.keras.layers.MaxPooling2D(2,2),\n",
    "    tf.keras.layers.Flatten(),\n",
    "    tf.keras.layers.Dense(512, activation='relu'),\n",
    "    tf.keras.layers.Dense(128, activation='relu'),\n",
    "    tf.keras.layers.Dense(64, activation='relu'),\n",
    "    tf.keras.layers.Dense(5, activation='softmax')\n",
    "    \n",
    "])"
   ]
  },
  {
   "cell_type": "code",
   "execution_count": 9,
   "metadata": {},
   "outputs": [],
   "source": [
    "\n",
    "optimizer = RMSprop(lr=1e-5, momentum=0.9)\n",
    "model.compile(loss='categorical_crossentropy',\n",
    "              optimizer=optimizer,\n",
    "              metrics=[\"acc\"])         \n"
   ]
  },
  {
   "cell_type": "code",
   "execution_count": 10,
   "metadata": {
    "scrolled": false
   },
   "outputs": [
    {
     "name": "stdout",
     "output_type": "stream",
     "text": [
      "Model: \"sequential\"\n",
      "_________________________________________________________________\n",
      "Layer (type)                 Output Shape              Param #   \n",
      "=================================================================\n",
      "conv2d (Conv2D)              (None, 598, 798, 16)      160       \n",
      "_________________________________________________________________\n",
      "batch_normalization (BatchNo (None, 598, 798, 16)      64        \n",
      "_________________________________________________________________\n",
      "max_pooling2d (MaxPooling2D) (None, 299, 399, 16)      0         \n",
      "_________________________________________________________________\n",
      "conv2d_1 (Conv2D)            (None, 297, 397, 32)      4640      \n",
      "_________________________________________________________________\n",
      "batch_normalization_1 (Batch (None, 297, 397, 32)      128       \n",
      "_________________________________________________________________\n",
      "max_pooling2d_1 (MaxPooling2 (None, 148, 198, 32)      0         \n",
      "_________________________________________________________________\n",
      "conv2d_2 (Conv2D)            (None, 146, 196, 64)      18496     \n",
      "_________________________________________________________________\n",
      "batch_normalization_2 (Batch (None, 146, 196, 64)      256       \n",
      "_________________________________________________________________\n",
      "max_pooling2d_2 (MaxPooling2 (None, 73, 98, 64)        0         \n",
      "_________________________________________________________________\n",
      "conv2d_3 (Conv2D)            (None, 71, 96, 64)        36928     \n",
      "_________________________________________________________________\n",
      "batch_normalization_3 (Batch (None, 71, 96, 64)        256       \n",
      "_________________________________________________________________\n",
      "max_pooling2d_3 (MaxPooling2 (None, 35, 48, 64)        0         \n",
      "_________________________________________________________________\n",
      "conv2d_4 (Conv2D)            (None, 33, 46, 128)       73856     \n",
      "_________________________________________________________________\n",
      "batch_normalization_4 (Batch (None, 33, 46, 128)       512       \n",
      "_________________________________________________________________\n",
      "max_pooling2d_4 (MaxPooling2 (None, 16, 23, 128)       0         \n",
      "_________________________________________________________________\n",
      "flatten (Flatten)            (None, 47104)             0         \n",
      "_________________________________________________________________\n",
      "dense (Dense)                (None, 512)               24117760  \n",
      "_________________________________________________________________\n",
      "dense_1 (Dense)              (None, 128)               65664     \n",
      "_________________________________________________________________\n",
      "dense_2 (Dense)              (None, 64)                8256      \n",
      "_________________________________________________________________\n",
      "dense_3 (Dense)              (None, 5)                 325       \n",
      "=================================================================\n",
      "Total params: 24,327,301\n",
      "Trainable params: 24,326,693\n",
      "Non-trainable params: 608\n",
      "_________________________________________________________________\n"
     ]
    }
   ],
   "source": [
    "model.summary()"
   ]
  },
  {
   "cell_type": "code",
   "execution_count": 11,
   "metadata": {},
   "outputs": [
    {
     "name": "stdout",
     "output_type": "stream",
     "text": [
      "Found 2335 images belonging to 5 classes.\n",
      "Found 414 images belonging to 5 classes.\n"
     ]
    }
   ],
   "source": [
    "from tensorflow.keras.preprocessing.image import ImageDataGenerator \n",
    "\n",
    "TRAINING_DIR = '/tmp/Liver/training'\n",
    "train_datagen = ImageDataGenerator(rescale = 1.0/255.)\n",
    "\n",
    "train_generator = train_datagen.flow_from_directory(TRAINING_DIR,\n",
    "                                                   batch_size=32,\n",
    "                                                   class_mode='categorical',\n",
    "                                                   target_size=(600,800),\n",
    "                                                   color_mode='grayscale') # target_size = (height, width)\n",
    "\n",
    "TESTING_DIR = '/tmp/Liver/testing'\n",
    "test_datagen = ImageDataGenerator(rescale = 1.0/255.)\n",
    "\n",
    "test_generator = train_datagen.flow_from_directory(TESTING_DIR,\n",
    "                                                   batch_size=16,\n",
    "                                                   class_mode='categorical',\n",
    "                                                   target_size=(600,800), \n",
    "                                                   color_mode='grayscale')"
   ]
  },
  {
   "cell_type": "code",
   "execution_count": 12,
   "metadata": {
    "scrolled": true
   },
   "outputs": [
    {
     "name": "stdout",
     "output_type": "stream",
     "text": [
      "WARNING:tensorflow:From <ipython-input-12-eb930de2e5a2>:4: Model.fit_generator (from tensorflow.python.keras.engine.training) is deprecated and will be removed in a future version.\n",
      "Instructions for updating:\n",
      "Please use Model.fit, which supports generators.\n",
      "Epoch 1/40\n",
      " 2/73 [..............................] - ETA: 6s - loss: 3.0309 - acc: 0.2969WARNING:tensorflow:Callbacks method `on_train_batch_end` is slow compared to the batch time (batch time: 0.0640s vs `on_train_batch_end` time: 0.1204s). Check your callbacks.\n",
      "73/73 [==============================] - 15s 210ms/step - loss: 2.8709 - acc: 0.4385 - val_loss: 2.0883 - val_acc: 0.4034\n",
      "Epoch 2/40\n",
      "73/73 [==============================] - 14s 196ms/step - loss: 1.4583 - acc: 0.5113 - val_loss: 5.6224 - val_acc: 0.4010\n",
      "Epoch 3/40\n",
      "73/73 [==============================] - 15s 199ms/step - loss: 1.1948 - acc: 0.5640 - val_loss: 6.9977 - val_acc: 0.4034\n",
      "Epoch 4/40\n",
      "73/73 [==============================] - 15s 201ms/step - loss: 0.9442 - acc: 0.6612 - val_loss: 9.9433 - val_acc: 0.4034\n",
      "Epoch 5/40\n",
      "73/73 [==============================] - 14s 196ms/step - loss: 0.8414 - acc: 0.7071 - val_loss: 4.4176 - val_acc: 0.3478\n",
      "Epoch 6/40\n",
      "73/73 [==============================] - 14s 196ms/step - loss: 0.6663 - acc: 0.7585 - val_loss: 4.8077 - val_acc: 0.3575\n",
      "Epoch 7/40\n",
      "73/73 [==============================] - 14s 196ms/step - loss: 0.4563 - acc: 0.8450 - val_loss: 2.1435 - val_acc: 0.4517\n",
      "Epoch 8/40\n",
      "73/73 [==============================] - 14s 196ms/step - loss: 0.3897 - acc: 0.8690 - val_loss: 2.2891 - val_acc: 0.5362\n",
      "Epoch 9/40\n",
      "73/73 [==============================] - 14s 197ms/step - loss: 0.3949 - acc: 0.8698 - val_loss: 1.9311 - val_acc: 0.5386\n",
      "Epoch 10/40\n",
      "73/73 [==============================] - 14s 196ms/step - loss: 0.3308 - acc: 0.8959 - val_loss: 1.7621 - val_acc: 0.6159\n",
      "Epoch 11/40\n",
      "73/73 [==============================] - 14s 197ms/step - loss: 0.3600 - acc: 0.9019 - val_loss: 2.6618 - val_acc: 0.5217\n",
      "Epoch 12/40\n",
      "73/73 [==============================] - 14s 197ms/step - loss: 0.2916 - acc: 0.9199 - val_loss: 2.0609 - val_acc: 0.6159\n",
      "Epoch 13/40\n",
      "73/73 [==============================] - 14s 197ms/step - loss: 0.3131 - acc: 0.9195 - val_loss: 4.3544 - val_acc: 0.6014\n",
      "Epoch 14/40\n",
      "73/73 [==============================] - 14s 197ms/step - loss: 0.3708 - acc: 0.8985 - val_loss: 2.7070 - val_acc: 0.6280\n",
      "Epoch 15/40\n",
      "73/73 [==============================] - 14s 197ms/step - loss: 0.3263 - acc: 0.9113 - val_loss: 2.8245 - val_acc: 0.6280\n",
      "Epoch 16/40\n",
      "73/73 [==============================] - 14s 197ms/step - loss: 0.3680 - acc: 0.9195 - val_loss: 3.1925 - val_acc: 0.5773\n",
      "Epoch 17/40\n",
      "73/73 [==============================] - 14s 197ms/step - loss: 0.4181 - acc: 0.8964 - val_loss: 4.5380 - val_acc: 0.5700\n",
      "Epoch 18/40\n",
      "73/73 [==============================] - 14s 197ms/step - loss: 0.3608 - acc: 0.9191 - val_loss: 3.9488 - val_acc: 0.5821\n",
      "Epoch 19/40\n",
      "73/73 [==============================] - 14s 198ms/step - loss: 0.3444 - acc: 0.9178 - val_loss: 3.7539 - val_acc: 0.4251\n",
      "Epoch 20/40\n",
      "73/73 [==============================] - 14s 197ms/step - loss: 0.4772 - acc: 0.8951 - val_loss: 7.5364 - val_acc: 0.4493\n",
      "Epoch 21/40\n",
      "73/73 [==============================] - 14s 196ms/step - loss: 0.4249 - acc: 0.9045 - val_loss: 3.4956 - val_acc: 0.3889\n",
      "Epoch 22/40\n",
      "73/73 [==============================] - 14s 198ms/step - loss: 0.6443 - acc: 0.8749 - val_loss: 9.9114 - val_acc: 0.4348\n",
      "Epoch 23/40\n",
      "73/73 [==============================] - 14s 196ms/step - loss: 0.5688 - acc: 0.8411 - val_loss: 2.7091 - val_acc: 0.6087\n",
      "Epoch 24/40\n",
      "73/73 [==============================] - 15s 200ms/step - loss: 0.6077 - acc: 0.8582 - val_loss: 1.6805 - val_acc: 0.4686\n",
      "Epoch 25/40\n",
      "73/73 [==============================] - 14s 196ms/step - loss: 0.9039 - acc: 0.7430 - val_loss: 8.3366 - val_acc: 0.3527\n",
      "Epoch 26/40\n",
      "73/73 [==============================] - 14s 197ms/step - loss: 1.3074 - acc: 0.5310 - val_loss: 1.3472 - val_acc: 0.4034\n",
      "Epoch 27/40\n",
      "73/73 [==============================] - 14s 196ms/step - loss: 1.3442 - acc: 0.4043 - val_loss: 1.3322 - val_acc: 0.4034\n",
      "Epoch 28/40\n",
      "73/73 [==============================] - 14s 196ms/step - loss: 1.3524 - acc: 0.4047 - val_loss: 1.3317 - val_acc: 0.4034\n",
      "Epoch 29/40\n",
      "73/73 [==============================] - 14s 196ms/step - loss: 1.3295 - acc: 0.4047 - val_loss: 1.3327 - val_acc: 0.4034\n",
      "Epoch 30/40\n",
      "73/73 [==============================] - 14s 197ms/step - loss: 1.3304 - acc: 0.3991 - val_loss: 1.3316 - val_acc: 0.4034\n",
      "Epoch 31/40\n",
      "73/73 [==============================] - 14s 197ms/step - loss: 1.3298 - acc: 0.4047 - val_loss: 1.3316 - val_acc: 0.4034\n",
      "Epoch 32/40\n",
      "73/73 [==============================] - 14s 197ms/step - loss: 1.3303 - acc: 0.4047 - val_loss: 1.3332 - val_acc: 0.4034\n",
      "Epoch 33/40\n",
      "73/73 [==============================] - 14s 197ms/step - loss: 1.3306 - acc: 0.4047 - val_loss: 1.3318 - val_acc: 0.4034\n",
      "Epoch 34/40\n",
      "73/73 [==============================] - 14s 197ms/step - loss: 1.3300 - acc: 0.4030 - val_loss: 1.3395 - val_acc: 0.3309\n",
      "Epoch 35/40\n",
      "73/73 [==============================] - 14s 197ms/step - loss: 1.3316 - acc: 0.3974 - val_loss: 1.3333 - val_acc: 0.4034\n",
      "Epoch 36/40\n",
      "73/73 [==============================] - 14s 197ms/step - loss: 1.3324 - acc: 0.4047 - val_loss: 1.3352 - val_acc: 0.4034\n",
      "Epoch 37/40\n",
      "73/73 [==============================] - 14s 196ms/step - loss: 1.3347 - acc: 0.4047 - val_loss: 1.3342 - val_acc: 0.4034\n",
      "Epoch 38/40\n",
      "73/73 [==============================] - 14s 197ms/step - loss: 1.3368 - acc: 0.3803 - val_loss: 1.3329 - val_acc: 0.4034\n",
      "Epoch 39/40\n",
      "73/73 [==============================] - 14s 197ms/step - loss: 1.3314 - acc: 0.3936 - val_loss: 1.3369 - val_acc: 0.4034\n",
      "Epoch 40/40\n",
      "73/73 [==============================] - 14s 197ms/step - loss: 1.3357 - acc: 0.3949 - val_loss: 1.3369 - val_acc: 0.4034\n"
     ]
    }
   ],
   "source": [
    "lr_schedule = tf.keras.callbacks.LearningRateScheduler(\n",
    "    lambda epoch: 1e-4 * 10**(epoch / 20))\n",
    "\n",
    "history = model.fit_generator(train_generator,\n",
    "                              epochs=40,\n",
    "                              validation_data=test_generator,\n",
    "                              callbacks=[lr_schedule])"
   ]
  },
  {
   "cell_type": "code",
   "execution_count": 13,
   "metadata": {},
   "outputs": [
    {
     "data": {
      "text/plain": [
       "(1e-08, 0.0001, 0.0, 60.0)"
      ]
     },
     "execution_count": 13,
     "metadata": {},
     "output_type": "execute_result"
    },
    {
     "data": {
      "image/png": "[encoded data removed]",
      "text/plain": [
       "<Figure size 432x288 with 1 Axes>"
      ]
     },
     "metadata": {
      "needs_background": "light"
     },
     "output_type": "display_data"
    }
   ],
   "source": [
    "# check the proper learning rate(lr)\n",
    "\n",
    "import matplotlib.pyplot as plt\n",
    "\n",
    "plt.semilogx(history.history[\"lr\"], history.history[\"loss\"])\n",
    "plt.axis([1e-8, 1e-4, 0, 60])"
   ]
  },
  {
   "cell_type": "code",
   "execution_count": 18,
   "metadata": {},
   "outputs": [
    {
     "data": {
      "image/png": "[encoded data removed]",
      "text/plain": [
       "<Figure size 432x288 with 1 Axes>"
      ]
     },
     "metadata": {
      "needs_background": "light"
     },
     "output_type": "display_data"
    },
    {
     "data": {
      "image/png": "[encoded data removed]",
      "text/plain": [
       "<Figure size 432x288 with 1 Axes>"
      ]
     },
     "metadata": {
      "needs_background": "light"
     },
     "output_type": "display_data"
    }
   ],
   "source": [
    "def plot_graphs(history, string):\n",
    "    plt.plot(history.history[string])\n",
    "    plt.plot(history.history['val_'+string])\n",
    "    plt.xlabel(\"Epochs\")\n",
    "    plt.ylabel(string)\n",
    "    plt.legend([string, 'val_'+string])\n",
    "    plt.show()\n",
    "    \n",
    "plot_graphs(history, \"acc\")\n",
    "plot_graphs(history, 'loss')"
   ]
  },
  {
   "cell_type": "code",
   "execution_count": null,
   "metadata": {},
   "outputs": [],
   "source": [
    "import os, signal\n",
    "\n",
    "os.kill(os.getpid(),signal.SIGKILL)"
   ]
  },
  {
   "cell_type": "code",
   "execution_count": null,
   "metadata": {},
   "outputs": [],
   "source": []
  }
 ],
 "metadata": {
  "kernelspec": {
   "display_name": "Python 3",
   "language": "python",
   "name": "python3"
  },
  "language_info": {
   "codemirror_mode": {
    "name": "ipython",
    "version": 3
   },
   "file_extension": ".py",
   "mimetype": "text/x-python",
   "name": "python",
   "nbconvert_exporter": "python",
   "pygments_lexer": "ipython3",
   "version": "3.8.3"
  }
 },
 "nbformat": 4,
 "nbformat_minor": 4
}
