{
 "cells": [
  {
   "cell_type": "code",
   "execution_count": 1,
   "metadata": {},
   "outputs": [],
   "source": [
    "import os\n",
    "from os import getcwd\n",
    "\n",
    "import tensorflow as tf"
   ]
  },
  {
   "cell_type": "code",
   "execution_count": 2,
   "metadata": {},
   "outputs": [],
   "source": [
    "try:\n",
    "    os.mkdir('/tmp/Liver')\n",
    "    os.mkdir('/tmp/Liver/training')\n",
    "    os.mkdir('/tmp/Liver/training/f0')\n",
    "    os.mkdir('/tmp/Liver/training/f1')\n",
    "    os.mkdir('/tmp/Liver/training/f2')\n",
    "    os.mkdir('/tmp/Liver/training/f3')\n",
    "    os.mkdir('/tmp/Liver/training/f4')\n",
    "    os.mkdir('/tmp/Liver/testing')\n",
    "    os.mkdir('/tmp/Liver/testing/f0')\n",
    "    os.mkdir('/tmp/Liver/testing/f1')\n",
    "    os.mkdir('/tmp/Liver/testing/f2')\n",
    "    os.mkdir('/tmp/Liver/testing/f3')\n",
    "    os.mkdir('/tmp/Liver/testing/f4')\n",
    "    \n",
    "    #YOUR CODE GOES HERE\n",
    "except OSError:\n",
    "    pass"
   ]
  },
  {
   "cell_type": "code",
   "execution_count": 3,
   "metadata": {},
   "outputs": [],
   "source": [
    "import random\n",
    "from shutil import copyfile\n",
    "\n",
    "def split_data(SOURCE, TRAINING, TESTING, SPLIT_SIZE):\n",
    "    dataset = []\n",
    "    \n",
    "    for unitData in os.listdir(SOURCE):\n",
    "        data = SOURCE + unitData\n",
    "        if(os.path.getsize(data) > 0):\n",
    "            dataset.append(unitData)\n",
    "        else:\n",
    "            print('Skipped ' + unitData)\n",
    "            print('Invalid file i.e zero size')\n",
    "    \n",
    "    train_set_length = int(len(dataset) * SPLIT_SIZE)\n",
    "    test_set_length = int(len(dataset) - train_set_length)\n",
    "    shuffled_set = random.sample(dataset, len(dataset))\n",
    "    train_set = dataset[0:train_set_length]\n",
    "    test_set = dataset[-test_set_length:]\n",
    "       \n",
    "    for unitData in train_set:\n",
    "        temp_train_set = SOURCE + unitData\n",
    "        final_train_set = TRAINING + unitData\n",
    "        copyfile(temp_train_set, final_train_set)\n",
    "    \n",
    "    for unitData in test_set:\n",
    "        temp_test_set = SOURCE + unitData\n",
    "        final_test_set = TESTING + unitData\n",
    "        copyfile(temp_test_set, final_test_set)"
   ]
  },
  {
   "cell_type": "code",
   "execution_count": 4,
   "metadata": {},
   "outputs": [],
   "source": [
    "F0_SOURCE_DIR = \"../../../Data/Liver/0/\"\n",
    "TRAINING_F0_DIR = \"/tmp/Liver/training/f0/\"\n",
    "TESTING_F0_DIR = \"/tmp/Liver/testing/f0/\"\n",
    "\n",
    "F1_SOURCE_DIR = \"../../../Data/Liver/1/\"\n",
    "TRAINING_F1_DIR = \"/tmp/Liver/training/f1/\"\n",
    "TESTING_F1_DIR = \"/tmp/Liver/testing/f1/\"\n",
    "\n",
    "F2_SOURCE_DIR = \"../../../Data/Liver/2/\"\n",
    "TRAINING_F2_DIR = \"/tmp/Liver/training/f2/\"\n",
    "TESTING_F2_DIR = \"/tmp/Liver/testing/f2/\"\n",
    "\n",
    "F3_SOURCE_DIR = \"../../../Data/Liver/3/\"\n",
    "TRAINING_F3_DIR = \"/tmp/Liver/training/f3/\"\n",
    "TESTING_F3_DIR = \"/tmp/Liver/testing/f3/\"\n",
    "\n",
    "F4_SOURCE_DIR = \"../../../Data/Liver/4/\"\n",
    "TRAINING_F4_DIR = \"/tmp/Liver/training/f4/\"\n",
    "TESTING_F4_DIR = \"/tmp/Liver/testing/f4/\"\n",
    "\n",
    "split_size = .85\n",
    "\n",
    "split_data(F0_SOURCE_DIR, TRAINING_F0_DIR, TESTING_F0_DIR, split_size)\n",
    "split_data(F1_SOURCE_DIR, TRAINING_F1_DIR, TESTING_F1_DIR, split_size)\n",
    "split_data(F2_SOURCE_DIR, TRAINING_F2_DIR, TESTING_F2_DIR, split_size)\n",
    "split_data(F3_SOURCE_DIR, TRAINING_F3_DIR, TESTING_F3_DIR, split_size)\n",
    "split_data(F4_SOURCE_DIR, TRAINING_F4_DIR, TESTING_F4_DIR, split_size)"
   ]
  },
  {
   "cell_type": "code",
   "execution_count": 5,
   "metadata": {
    "scrolled": true
   },
   "outputs": [
    {
     "name": "stdout",
     "output_type": "stream",
     "text": [
      "Training Fibrosis 0: 945\n",
      "Testing Fibrosis 0: 167\n",
      "--------------------\n",
      "Training Fibrosis 1: 118\n",
      "Testing Fibrosis 1: 21\n",
      "--------------------\n",
      "Training Fibrosis 2: 114\n",
      "Testing Fibrosis 2: 21\n",
      "--------------------\n",
      "Training Fibrosis 3: 384\n",
      "Testing Fibrosis 3: 68\n",
      "--------------------\n",
      "Training Fibrosis 4: 774\n",
      "Testing Fibrosis 4: 137\n",
      "--------------------\n"
     ]
    }
   ],
   "source": [
    "print(\"Training Fibrosis 0:\", len(os.listdir(TRAINING_F0_DIR)))\n",
    "print(\"Testing Fibrosis 0:\", len(os.listdir(TESTING_F0_DIR)))\n",
    "print(\"-\"*20)\n",
    "print(\"Training Fibrosis 1:\", len(os.listdir(TRAINING_F1_DIR)))\n",
    "print(\"Testing Fibrosis 1:\", len(os.listdir(TESTING_F1_DIR)))\n",
    "print(\"-\"*20)\n",
    "print(\"Training Fibrosis 2:\", len(os.listdir(TRAINING_F2_DIR)))\n",
    "print(\"Testing Fibrosis 2:\", len(os.listdir(TESTING_F2_DIR)))\n",
    "print(\"-\"*20)\n",
    "print(\"Training Fibrosis 3:\", len(os.listdir(TRAINING_F3_DIR)))\n",
    "print(\"Testing Fibrosis 3:\", len(os.listdir(TESTING_F3_DIR)))\n",
    "print(\"-\"*20)\n",
    "print(\"Training Fibrosis 4:\", len(os.listdir(TRAINING_F4_DIR)))\n",
    "print(\"Testing Fibrosis 4:\", len(os.listdir(TESTING_F4_DIR)))\n",
    "print(\"-\"*20)"
   ]
  },
  {
   "cell_type": "code",
   "execution_count": 6,
   "metadata": {},
   "outputs": [],
   "source": [
    "class myCallback(tf.keras.callbacks.Callback):\n",
    "    def on_epoch_end(self, epoch, logs={}):\n",
    "        if(logs.get('acc')>0.999):\n",
    "            print(\"\\nReached 99.9% accuracy so cancelling training\")\n",
    "            self.model.stop_training = True"
   ]
  },
  {
   "cell_type": "code",
   "execution_count": 7,
   "metadata": {},
   "outputs": [],
   "source": [
    "from tensorflow.keras.optimizers import RMSprop"
   ]
  },
  {
   "cell_type": "code",
   "execution_count": 19,
   "metadata": {},
   "outputs": [],
   "source": [
    "model = tf.keras.models.Sequential([\n",
    "    tf.keras.layers.Conv2D(6, (5,5), activation='relu', input_shape=(600,800,1)),\n",
    "    tf.keras.layers.AveragePooling2D(pool_size=(2, 2), strides=(2, 2), padding='valid'),\n",
    "    tf.keras.layers.Conv2D(16, (5,5), activation='relu'),\n",
    "    tf.keras.layers.AveragePooling2D(pool_size=(2, 2), strides=(2, 2), padding='valid'),\n",
    "    tf.keras.layers.Flatten(),\n",
    "    tf.keras.layers.Dense(128, activation='relu'),\n",
    "    tf.keras.layers.Dense(64, activation='relu'),\n",
    "    tf.keras.layers.Dense(32, activation='relu'),\n",
    "    tf.keras.layers.Dense(5, activation='softmax')\n",
    "    \n",
    "])"
   ]
  },
  {
   "cell_type": "code",
   "execution_count": null,
   "metadata": {},
   "outputs": [],
   "source": [
    "\"\"\"\n",
    "model.compile(optimizer=RMSprop(lr=0.001),\n",
    "              loss='categorical_crossentropy',\n",
    "              metrics=['acc'])\n",
    "\"\"\""
   ]
  },
  {
   "cell_type": "code",
   "execution_count": 21,
   "metadata": {},
   "outputs": [],
   "source": [
    "\n",
    "optimizer = RMSprop(lr=1e-5, momentum=0.9)\n",
    "model.compile(loss='categorical_crossentropy',\n",
    "              optimizer=optimizer,\n",
    "              metrics=[\"acc\"])         \n"
   ]
  },
  {
   "cell_type": "code",
   "execution_count": 22,
   "metadata": {
    "scrolled": false
   },
   "outputs": [
    {
     "name": "stdout",
     "output_type": "stream",
     "text": [
      "Model: \"sequential_3\"\n",
      "_________________________________________________________________\n",
      "Layer (type)                 Output Shape              Param #   \n",
      "=================================================================\n",
      "conv2d_8 (Conv2D)            (None, 596, 796, 6)       156       \n",
      "_________________________________________________________________\n",
      "average_pooling2d_7 (Average (None, 298, 398, 6)       0         \n",
      "_________________________________________________________________\n",
      "conv2d_9 (Conv2D)            (None, 294, 394, 16)      2416      \n",
      "_________________________________________________________________\n",
      "average_pooling2d_8 (Average (None, 147, 197, 16)      0         \n",
      "_________________________________________________________________\n",
      "flatten_3 (Flatten)          (None, 463344)            0         \n",
      "_________________________________________________________________\n",
      "dense_12 (Dense)             (None, 128)               59308160  \n",
      "_________________________________________________________________\n",
      "dense_13 (Dense)             (None, 64)                8256      \n",
      "_________________________________________________________________\n",
      "dense_14 (Dense)             (None, 32)                2080      \n",
      "_________________________________________________________________\n",
      "dense_15 (Dense)             (None, 5)                 165       \n",
      "=================================================================\n",
      "Total params: 59,321,233\n",
      "Trainable params: 59,321,233\n",
      "Non-trainable params: 0\n",
      "_________________________________________________________________\n"
     ]
    }
   ],
   "source": [
    "model.summary()"
   ]
  },
  {
   "cell_type": "code",
   "execution_count": 23,
   "metadata": {},
   "outputs": [
    {
     "name": "stdout",
     "output_type": "stream",
     "text": [
      "Found 2335 images belonging to 5 classes.\n",
      "Found 414 images belonging to 5 classes.\n"
     ]
    }
   ],
   "source": [
    "from tensorflow.keras.preprocessing.image import ImageDataGenerator \n",
    "\n",
    "TRAINING_DIR = '/tmp/Liver/training'\n",
    "train_datagen = ImageDataGenerator(rescale = 1.0/255.)\n",
    "\n",
    "train_generator = train_datagen.flow_from_directory(TRAINING_DIR,\n",
    "                                                   batch_size=32,\n",
    "                                                   class_mode='categorical',\n",
    "                                                   target_size=(600,800),\n",
    "                                                   color_mode='grayscale') # target_size = (height, width)\n",
    "\n",
    "TESTING_DIR = '/tmp/Liver/testing'\n",
    "test_datagen = ImageDataGenerator(rescale = 1.0/255.)\n",
    "\n",
    "test_generator = train_datagen.flow_from_directory(TESTING_DIR,\n",
    "                                                   batch_size=16,\n",
    "                                                   class_mode='categorical',\n",
    "                                                   target_size=(600,800), \n",
    "                                                   color_mode='grayscale')"
   ]
  },
  {
   "cell_type": "code",
   "execution_count": 24,
   "metadata": {
    "scrolled": true
   },
   "outputs": [
    {
     "name": "stdout",
     "output_type": "stream",
     "text": [
      "WARNING:tensorflow:From <ipython-input-24-dd5cb7bad166>:3: Model.fit_generator (from tensorflow.python.keras.engine.training) is deprecated and will be removed in a future version.\n",
      "Instructions for updating:\n",
      "Please use Model.fit, which supports generators.\n",
      "Epoch 1/40\n",
      "73/73 [==============================] - 7s 101ms/step - loss: 1.3280 - acc: 0.4754 - val_loss: 1.2424 - val_acc: 0.5362\n",
      "Epoch 2/40\n",
      "73/73 [==============================] - 7s 99ms/step - loss: 1.1957 - acc: 0.5469 - val_loss: 1.1684 - val_acc: 0.5459\n",
      "Epoch 3/40\n",
      "73/73 [==============================] - 7s 102ms/step - loss: 1.1331 - acc: 0.5499 - val_loss: 1.1947 - val_acc: 0.5604\n",
      "Epoch 4/40\n",
      "73/73 [==============================] - 7s 98ms/step - loss: 1.0600 - acc: 0.5867 - val_loss: 1.1192 - val_acc: 0.5676\n",
      "Epoch 5/40\n",
      "73/73 [==============================] - 7s 98ms/step - loss: 0.9764 - acc: 0.6188 - val_loss: 1.0899 - val_acc: 0.5628\n",
      "Epoch 6/40\n",
      "73/73 [==============================] - 7s 97ms/step - loss: 0.9110 - acc: 0.6390 - val_loss: 1.0791 - val_acc: 0.6063\n",
      "Epoch 7/40\n",
      "73/73 [==============================] - 7s 96ms/step - loss: 0.8011 - acc: 0.6976 - val_loss: 1.1137 - val_acc: 0.5459\n",
      "Epoch 8/40\n",
      "73/73 [==============================] - 7s 97ms/step - loss: 0.6919 - acc: 0.7507 - val_loss: 1.0777 - val_acc: 0.6014\n",
      "Epoch 9/40\n",
      "73/73 [==============================] - 7s 96ms/step - loss: 0.6053 - acc: 0.7859 - val_loss: 1.0584 - val_acc: 0.6159\n",
      "Epoch 10/40\n",
      "73/73 [==============================] - 7s 98ms/step - loss: 0.5188 - acc: 0.8300 - val_loss: 1.1972 - val_acc: 0.5894\n",
      "Epoch 11/40\n",
      "73/73 [==============================] - 7s 98ms/step - loss: 0.4403 - acc: 0.8621 - val_loss: 1.0118 - val_acc: 0.6401\n",
      "Epoch 12/40\n",
      "73/73 [==============================] - 7s 97ms/step - loss: 0.3711 - acc: 0.8874 - val_loss: 1.0197 - val_acc: 0.6377\n",
      "Epoch 13/40\n",
      "73/73 [==============================] - 7s 97ms/step - loss: 0.2855 - acc: 0.9268 - val_loss: 1.1787 - val_acc: 0.6135\n",
      "Epoch 14/40\n",
      "73/73 [==============================] - 7s 98ms/step - loss: 0.2281 - acc: 0.9392 - val_loss: 1.0266 - val_acc: 0.6836\n",
      "Epoch 15/40\n",
      "73/73 [==============================] - 7s 98ms/step - loss: 0.1738 - acc: 0.9589 - val_loss: 1.0420 - val_acc: 0.6691\n",
      "Epoch 16/40\n",
      "73/73 [==============================] - 7s 96ms/step - loss: 0.1353 - acc: 0.9739 - val_loss: 1.1709 - val_acc: 0.6425\n",
      "Epoch 17/40\n",
      "73/73 [==============================] - 7s 97ms/step - loss: 0.0897 - acc: 0.9897 - val_loss: 1.1483 - val_acc: 0.6546\n",
      "Epoch 18/40\n",
      "73/73 [==============================] - 7s 97ms/step - loss: 0.0765 - acc: 0.9876 - val_loss: 1.1787 - val_acc: 0.6812\n",
      "Epoch 19/40\n",
      "73/73 [==============================] - 7s 98ms/step - loss: 0.0445 - acc: 0.9961 - val_loss: 1.1994 - val_acc: 0.6715\n",
      "Epoch 20/40\n",
      "73/73 [==============================] - 7s 98ms/step - loss: 0.0367 - acc: 0.9961 - val_loss: 1.2204 - val_acc: 0.6643\n",
      "Epoch 21/40\n",
      "73/73 [==============================] - 7s 98ms/step - loss: 0.0290 - acc: 0.9957 - val_loss: 1.2905 - val_acc: 0.6763\n",
      "Epoch 22/40\n",
      "73/73 [==============================] - 7s 98ms/step - loss: 0.0140 - acc: 0.9996 - val_loss: 1.7448 - val_acc: 0.6063\n",
      "Epoch 23/40\n",
      "73/73 [==============================] - 7s 97ms/step - loss: 0.0080 - acc: 0.9996 - val_loss: 1.6355 - val_acc: 0.6498\n",
      "Epoch 24/40\n",
      "73/73 [==============================] - 7s 98ms/step - loss: 0.0115 - acc: 0.9987 - val_loss: 1.5635 - val_acc: 0.6643\n",
      "Epoch 25/40\n",
      "73/73 [==============================] - 7s 98ms/step - loss: 0.0025 - acc: 1.0000 - val_loss: 1.8771 - val_acc: 0.6618\n",
      "Epoch 26/40\n",
      "73/73 [==============================] - 7s 97ms/step - loss: 0.0011 - acc: 1.0000 - val_loss: 1.9855 - val_acc: 0.6570\n",
      "Epoch 27/40\n",
      "73/73 [==============================] - 7s 99ms/step - loss: 4.5699e-04 - acc: 1.0000 - val_loss: 2.2514 - val_acc: 0.6667\n",
      "Epoch 28/40\n",
      "73/73 [==============================] - 7s 99ms/step - loss: 2.5477e-04 - acc: 1.0000 - val_loss: 2.4480 - val_acc: 0.6522\n",
      "Epoch 29/40\n",
      "73/73 [==============================] - 7s 101ms/step - loss: 1.4811e-04 - acc: 1.0000 - val_loss: 2.6079 - val_acc: 0.6594\n",
      "Epoch 30/40\n",
      "73/73 [==============================] - 7s 99ms/step - loss: 1.0104e-04 - acc: 1.0000 - val_loss: 2.6357 - val_acc: 0.6691\n",
      "Epoch 31/40\n",
      "73/73 [==============================] - 7s 102ms/step - loss: 7.7434e-05 - acc: 1.0000 - val_loss: 2.7422 - val_acc: 0.6570\n",
      "Epoch 32/40\n",
      "73/73 [==============================] - 7s 97ms/step - loss: 5.4543e-05 - acc: 1.0000 - val_loss: 2.7766 - val_acc: 0.6643\n",
      "Epoch 33/40\n",
      "73/73 [==============================] - 7s 100ms/step - loss: 4.3790e-05 - acc: 1.0000 - val_loss: 2.9180 - val_acc: 0.6643\n",
      "Epoch 34/40\n",
      "73/73 [==============================] - 7s 101ms/step - loss: 3.4296e-05 - acc: 1.0000 - val_loss: 2.9522 - val_acc: 0.6546\n",
      "Epoch 35/40\n",
      "73/73 [==============================] - 7s 98ms/step - loss: 2.8317e-05 - acc: 1.0000 - val_loss: 3.0927 - val_acc: 0.6522\n",
      "Epoch 36/40\n",
      "73/73 [==============================] - 7s 97ms/step - loss: 2.4901e-05 - acc: 1.0000 - val_loss: 3.0154 - val_acc: 0.6570\n",
      "Epoch 37/40\n",
      "73/73 [==============================] - 7s 97ms/step - loss: 2.2312e-05 - acc: 1.0000 - val_loss: 3.0282 - val_acc: 0.6667\n",
      "Epoch 38/40\n",
      "73/73 [==============================] - 7s 100ms/step - loss: 1.7961e-05 - acc: 1.0000 - val_loss: 3.1580 - val_acc: 0.6546\n",
      "Epoch 39/40\n",
      "73/73 [==============================] - 7s 98ms/step - loss: 1.6818e-05 - acc: 1.0000 - val_loss: 3.1348 - val_acc: 0.6618\n",
      "Epoch 40/40\n",
      "73/73 [==============================] - 7s 101ms/step - loss: 1.4904e-05 - acc: 1.0000 - val_loss: 3.1982 - val_acc: 0.6522\n"
     ]
    }
   ],
   "source": [
    "callbacks = myCallback()\n",
    "\n",
    "history = model.fit_generator(train_generator,\n",
    "                              epochs=40,\n",
    "                              validation_data=test_generator)\n",
    "#                             callbacks=[callbacks]"
   ]
  },
  {
   "cell_type": "code",
   "execution_count": 26,
   "metadata": {},
   "outputs": [
    {
     "data": {
      "image/png": "[encoded data removed]",
      "text/plain": [
       "<Figure size 432x288 with 1 Axes>"
      ]
     },
     "metadata": {
      "needs_background": "light"
     },
     "output_type": "display_data"
    },
    {
     "data": {
      "image/png": "[encoded data removed]",
      "text/plain": [
       "<Figure size 432x288 with 1 Axes>"
      ]
     },
     "metadata": {
      "needs_background": "light"
     },
     "output_type": "display_data"
    }
   ],
   "source": [
    "import matplotlib.pyplot as plt\n",
    "\n",
    "def plot_graphs(history, string):\n",
    "    plt.plot(history.history[string])\n",
    "    plt.plot(history.history['val_'+string])\n",
    "    plt.xlabel(\"Epochs\")\n",
    "    plt.ylabel(string)\n",
    "    plt.legend([string, 'val_'+string])\n",
    "    plt.show()\n",
    "    \n",
    "plot_graphs(history, \"acc\")\n",
    "plot_graphs(history, \"loss\")"
   ]
  },
  {
   "cell_type": "code",
   "execution_count": 29,
   "metadata": {},
   "outputs": [
    {
     "data": {
      "text/plain": [
       "<Figure size 432x288 with 0 Axes>"
      ]
     },
     "metadata": {},
     "output_type": "display_data"
    },
    {
     "data": {
      "image/png": "[encoded data removed]",
      "text/plain": [
       "<Figure size 720x720 with 2 Axes>"
      ]
     },
     "metadata": {
      "needs_background": "light"
     },
     "output_type": "display_data"
    }
   ],
   "source": [
    "# heatmap\n",
    "import numpy as np\n",
    "\n",
    "predictions = model.predict_generator(test_generator)\n",
    "y_pred = [np.argmax(probas) for probas in predictions]\n",
    "y_test = test_generator.classes\n",
    "class_names = test_generator.class_indices.keys()\n",
    "\n",
    "from sklearn.metrics import confusion_matrix\n",
    "import itertools\n",
    "\n",
    "def plot_confusion_matrix(cm, classes, title='Confusion matrix', cmap=plt.cm.Blues):\n",
    "    cm = cm.astype('float') / cm.sum(axis=1)[:, np.newaxis]\n",
    "    plt.figure(figsize=(10,10))\n",
    "    plt.imshow(cm, interpolation='nearest', cmap=cmap)\n",
    "    plt.title(title)\n",
    "    plt.colorbar()\n",
    "    tick_marks = np.arange(len(classes))\n",
    "    plt.xticks(tick_marks, classes, rotation=45)\n",
    "    plt.yticks(tick_marks, classes)\n",
    "\n",
    "    fmt = '.2f'\n",
    "    thresh = cm.max() / 2.\n",
    "    for i, j in itertools.product(range(cm.shape[0]), range(cm.shape[1])):\n",
    "        plt.text(j, i, format(cm[i, j], fmt),\n",
    "                 horizontalalignment=\"center\",\n",
    "                 color=\"white\" if cm[i, j] > thresh else \"black\")\n",
    "\n",
    "    plt.ylabel('True label')\n",
    "    plt.xlabel('Predicted label')\n",
    "    plt.tight_layout()\n",
    "    \n",
    "# compute confusion matrix\n",
    "cnf_matrix = confusion_matrix(y_test, y_pred)\n",
    "np.set_printoptions(precision=2)\n",
    "\n",
    "# plot normalized confusion matrix\n",
    "plt.figure()\n",
    "plot_confusion_matrix(cnf_matrix, classes=class_names, title='Normalized confusion matrix')\n",
    "plt.show()"
   ]
  },
  {
   "cell_type": "code",
   "execution_count": null,
   "metadata": {},
   "outputs": [],
   "source": [
    "# 말도안되는 그래프. -> 의미없음"
   ]
  },
  {
   "cell_type": "code",
   "execution_count": null,
   "metadata": {},
   "outputs": [],
   "source": [
    "import os, signal\n",
    "\n",
    "os.kill(os.getpid(),signal.SIGKILL)"
   ]
  },
  {
   "cell_type": "code",
   "execution_count": null,
   "metadata": {},
   "outputs": [],
   "source": []
  }
 ],
 "metadata": {
  "kernelspec": {
   "display_name": "Python 3",
   "language": "python",
   "name": "python3"
  },
  "language_info": {
   "codemirror_mode": {
    "name": "ipython",
    "version": 3
   },
   "file_extension": ".py",
   "mimetype": "text/x-python",
   "name": "python",
   "nbconvert_exporter": "python",
   "pygments_lexer": "ipython3",
   "version": "3.8.3"
  }
 },
 "nbformat": 4,
 "nbformat_minor": 4
}
