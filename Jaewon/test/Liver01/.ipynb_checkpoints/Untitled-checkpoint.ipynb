{
 "cells": [
  {
   "cell_type": "code",
   "execution_count": 5,
   "metadata": {},
   "outputs": [],
   "source": [
    "import pandas as pd\n",
    "import numpy as np"
   ]
  },
  {
   "cell_type": "code",
   "execution_count": 6,
   "metadata": {},
   "outputs": [],
   "source": [
    "data = pd.read_csv(\"data.csv\")"
   ]
  },
  {
   "cell_type": "code",
   "execution_count": 7,
   "metadata": {},
   "outputs": [],
   "source": [
    "data.Fibrosis = data.Fibrosis.replace('-', np.NaN)\n",
    "data.Fibrosis = pd.to_numeric(data.Fibrosis)"
   ]
  },
  {
   "cell_type": "code",
   "execution_count": 8,
   "metadata": {},
   "outputs": [],
   "source": [
    "f_0 = data[data['Fibrosis'] == 0].number.astype(str).tolist()\n",
    "f_1 = data[data['Fibrosis'] == 1].number.astype(str).tolist()\n",
    "f_2 = data[data['Fibrosis'] == 2].number.astype(str).tolist()\n",
    "f_3 = data[data['Fibrosis'] == 3].number.astype(str).tolist()\n",
    "f_4 = data[data['Fibrosis'] == 4].number.astype(str).tolist()"
   ]
  },
  {
   "cell_type": "code",
   "execution_count": 9,
   "metadata": {},
   "outputs": [],
   "source": [
    "def fill_zero(f):\n",
    "    for i in range(len(f)):\n",
    "        f[i] = f[i].zfill(4)\n",
    "    \n",
    "    return f"
   ]
  },
  {
   "cell_type": "code",
   "execution_count": 10,
   "metadata": {},
   "outputs": [],
   "source": [
    "f_0 = fill_zero(f_0)\n",
    "f_1 = fill_zero(f_1)\n",
    "f_2 = fill_zero(f_2)\n",
    "f_3 = fill_zero(f_3)\n",
    "f_4 = fill_zero(f_4)"
   ]
  },
  {
   "cell_type": "code",
   "execution_count": 11,
   "metadata": {},
   "outputs": [],
   "source": [
    "import os"
   ]
  },
  {
   "cell_type": "code",
   "execution_count": 12,
   "metadata": {},
   "outputs": [],
   "source": [
    "try:\n",
    "    os.mkdir('/tmp/Liver')\n",
    "    os.mkdir('/tmp/Liver/training')\n",
    "    os.mkdir('/tmp/Liver/training/f0')\n",
    "    os.mkdir('/tmp/Liver/training/f1')\n",
    "    os.mkdir('/tmp/Liver/training/f2')\n",
    "    os.mkdir('/tmp/Liver/training/f3')\n",
    "    os.mkdir('/tmp/Liver/training/f4')\n",
    "    os.mkdir('/tmp/Liver/testing')\n",
    "    os.mkdir('/tmp/Liver/testing/f0')\n",
    "    os.mkdir('/tmp/Liver/testing/f1')\n",
    "    os.mkdir('/tmp/Liver/testing/f2')\n",
    "    os.mkdir('/tmp/Liver/testing/f3')\n",
    "    os.mkdir('/tmp/Liver/testing/f4')\n",
    "    \n",
    "except OSError:\n",
    "    pass"
   ]
  },
  {
   "cell_type": "code",
   "execution_count": 13,
   "metadata": {},
   "outputs": [],
   "source": [
    "# extract zip file\n",
    "import zipfile\n",
    "\n",
    "local_zip = '../../../Data/Liver.zip'\n",
    "zip_ref = zipfile.ZipFile(local_zip, 'r')\n",
    "zip_ref.extractall('/tmp/Liver')\n",
    "zip_ref.close()"
   ]
  },
  {
   "cell_type": "code",
   "execution_count": 14,
   "metadata": {},
   "outputs": [],
   "source": [
    "base_dir = '/tmp/Liver'"
   ]
  },
  {
   "cell_type": "code",
   "execution_count": null,
   "metadata": {},
   "outputs": [],
   "source": [
    "folder_loc = '../../../Data/Liver/'\n",
    "\n",
    "def move_to(f_, num):\n",
    "    new_name = 0\n",
    "    for folder_name in f_:\n",
    "        for root, subdirs, files in os.walk(base_dir+folder_name):\n",
    "            for f in files:\n",
    "                if 'mask' not in f:\n",
    "                    # file_name change\n",
    "                    try:\n",
    "                        file_to_change = os.path.join(root, f)\n",
    "                        dst = str(new_name)+'.tif'\n",
    "                        dst = os.path.join(root, dst)\n",
    "                        os.rename(file_to_change, dst)\n",
    "                        new_name += 1\n",
    "                    \n",
    "                        # file move\n",
    "                        shutil.move(dst, folder_loc+num)\n",
    "                    except:\n",
    "                        print('error')"
   ]
  },
  {
   "cell_type": "code",
   "execution_count": null,
   "metadata": {},
   "outputs": [],
   "source": [
    "move_to(f_0, 'f0')\n",
    "move_to(f_1, 'f1')\n",
    "move_to(f_2, 'f2')\n",
    "move_to(f_3, 'f3')\n",
    "move_to(f_4, 'f4')"
   ]
  },
  {
   "cell_type": "code",
   "execution_count": null,
   "metadata": {},
   "outputs": [],
   "source": []
  },
  {
   "cell_type": "code",
   "execution_count": 2,
   "metadata": {},
   "outputs": [],
   "source": []
  },
  {
   "cell_type": "code",
   "execution_count": null,
   "metadata": {},
   "outputs": [],
   "source": []
  },
  {
   "cell_type": "code",
   "execution_count": null,
   "metadata": {},
   "outputs": [],
   "source": [
    "\n",
    "import zipfile\n",
    "import shutil\n",
    "import tensorflow as tf"
   ]
  },
  {
   "cell_type": "code",
   "execution_count": null,
   "metadata": {},
   "outputs": [],
   "source": []
  },
  {
   "cell_type": "code",
   "execution_count": null,
   "metadata": {},
   "outputs": [],
   "source": []
  },
  {
   "cell_type": "code",
   "execution_count": null,
   "metadata": {},
   "outputs": [],
   "source": []
  },
  {
   "cell_type": "code",
   "execution_count": null,
   "metadata": {},
   "outputs": [],
   "source": []
  },
  {
   "cell_type": "code",
   "execution_count": null,
   "metadata": {},
   "outputs": [],
   "source": []
  },
  {
   "cell_type": "code",
   "execution_count": null,
   "metadata": {},
   "outputs": [],
   "source": []
  },
  {
   "cell_type": "code",
   "execution_count": null,
   "metadata": {},
   "outputs": [],
   "source": []
  },
  {
   "cell_type": "code",
   "execution_count": null,
   "metadata": {},
   "outputs": [],
   "source": []
  },
  {
   "cell_type": "code",
   "execution_count": null,
   "metadata": {},
   "outputs": [],
   "source": [
    "model = tf.keras.models.Sequential([\n",
    "    tf.keras.layers.Conv2D(16, (3,3), activation='relu', input_shape=(800,600,1)),\n",
    "    tf.keras.layers.MaxPooling2D(2,2),\n",
    "    tf.keras.layers.Conv2D(32, (3,3), activation='relu'),\n",
    "    tf.keras.layers.MaxPooling2D(2,2),\n",
    "    tf.keras.layers.Conv2D(64, (3,3), activation='relu'),\n",
    "    tf.keras.layers.MaxPooling2D(2,2),\n",
    "    tf.keras.layers.Conv2D(128, (3,3), activation='relu'),\n",
    "    tf.keras.layers.MaxPooling2D(2,2),\n",
    "    tf.keras.layers.Conv2D(128, (3,3), activation='relu'),\n",
    "    tf.keras.layers.MaxPooling2D(2,2),\n",
    "    tf.keras.layers.Conv2D(128, (3,3), activation='relu'),\n",
    "    tf.keras.layers.MaxPooling2D(2,2),\n",
    "    tf.keras.layers.Conv2D(128, (3,3), activation='relu'),\n",
    "    tf.keras.layers.MaxPooling2D(2,2),\n",
    "    tf.keras.layers.Dropout(0.2),\n",
    "    tf.keras.layers.Flatten(),\n",
    "    tf.keras.layers.Dense(512, activation='relu'),\n",
    "    tf.keras.layers.Dense(128, activation='relu'),\n",
    "    tf.keras.layers.Dense(128, activation='relu'),\n",
    "    tf.keras.layers.Dense(4, activation='softmax')\n",
    "])\n",
    "\n",
    "model.summary()\n",
    "\n",
    "model.compile(optimizer=RMSprop(lr=0.001), loss='categorical', metrics=['acc'])"
   ]
  }
 ],
 "metadata": {
  "kernelspec": {
   "display_name": "Python 3",
   "language": "python",
   "name": "python3"
  },
  "language_info": {
   "codemirror_mode": {
    "name": "ipython",
    "version": 3
   },
   "file_extension": ".py",
   "mimetype": "text/x-python",
   "name": "python",
   "nbconvert_exporter": "python",
   "pygments_lexer": "ipython3",
   "version": "3.8.3"
  }
 },
 "nbformat": 4,
 "nbformat_minor": 4
}
