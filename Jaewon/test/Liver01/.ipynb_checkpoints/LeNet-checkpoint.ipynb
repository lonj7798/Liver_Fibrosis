{
 "cells": [
  {
   "cell_type": "code",
   "execution_count": 1,
   "metadata": {},
   "outputs": [],
   "source": [
    "import os\n",
    "from os import getcwd\n",
    "\n",
    "import tensorflow as tf"
   ]
  },
  {
   "cell_type": "code",
   "execution_count": 2,
   "metadata": {},
   "outputs": [],
   "source": [
    "try:\n",
    "    os.mkdir('/tmp/Liver')\n",
    "    os.mkdir('/tmp/Liver/training')\n",
    "    os.mkdir('/tmp/Liver/training/f0')\n",
    "    os.mkdir('/tmp/Liver/training/f1')\n",
    "    os.mkdir('/tmp/Liver/training/f2')\n",
    "    os.mkdir('/tmp/Liver/training/f3')\n",
    "    os.mkdir('/tmp/Liver/training/f4')\n",
    "    os.mkdir('/tmp/Liver/testing')\n",
    "    os.mkdir('/tmp/Liver/testing/f0')\n",
    "    os.mkdir('/tmp/Liver/testing/f1')\n",
    "    os.mkdir('/tmp/Liver/testing/f2')\n",
    "    os.mkdir('/tmp/Liver/testing/f3')\n",
    "    os.mkdir('/tmp/Liver/testing/f4')\n",
    "    \n",
    "    #YOUR CODE GOES HERE\n",
    "except OSError:\n",
    "    pass"
   ]
  },
  {
   "cell_type": "code",
   "execution_count": 3,
   "metadata": {},
   "outputs": [],
   "source": [
    "import random\n",
    "from shutil import copyfile\n",
    "\n",
    "def split_data(SOURCE, TRAINING, TESTING, SPLIT_SIZE):\n",
    "    dataset = []\n",
    "    \n",
    "    for unitData in os.listdir(SOURCE):\n",
    "        data = SOURCE + unitData\n",
    "        if(os.path.getsize(data) > 0):\n",
    "            dataset.append(unitData)\n",
    "        else:\n",
    "            print('Skipped ' + unitData)\n",
    "            print('Invalid file i.e zero size')\n",
    "    \n",
    "    train_set_length = int(len(dataset) * SPLIT_SIZE)\n",
    "    test_set_length = int(len(dataset) - train_set_length)\n",
    "    shuffled_set = random.sample(dataset, len(dataset))\n",
    "    train_set = dataset[0:train_set_length]\n",
    "    test_set = dataset[-test_set_length:]\n",
    "       \n",
    "    for unitData in train_set:\n",
    "        temp_train_set = SOURCE + unitData\n",
    "        final_train_set = TRAINING + unitData\n",
    "        copyfile(temp_train_set, final_train_set)\n",
    "    \n",
    "    for unitData in test_set:\n",
    "        temp_test_set = SOURCE + unitData\n",
    "        final_test_set = TESTING + unitData\n",
    "        copyfile(temp_test_set, final_test_set)"
   ]
  },
  {
   "cell_type": "code",
   "execution_count": 4,
   "metadata": {},
   "outputs": [],
   "source": [
    "F0_SOURCE_DIR = \"../../../Data/Liver/0/\"\n",
    "TRAINING_F0_DIR = \"/tmp/Liver/training/f0/\"\n",
    "TESTING_F0_DIR = \"/tmp/Liver/testing/f0/\"\n",
    "\n",
    "F1_SOURCE_DIR = \"../../../Data/Liver/1/\"\n",
    "TRAINING_F1_DIR = \"/tmp/Liver/training/f1/\"\n",
    "TESTING_F1_DIR = \"/tmp/Liver/testing/f1/\"\n",
    "\n",
    "F2_SOURCE_DIR = \"../../../Data/Liver/2/\"\n",
    "TRAINING_F2_DIR = \"/tmp/Liver/training/f2/\"\n",
    "TESTING_F2_DIR = \"/tmp/Liver/testing/f2/\"\n",
    "\n",
    "F3_SOURCE_DIR = \"../../../Data/Liver/3/\"\n",
    "TRAINING_F3_DIR = \"/tmp/Liver/training/f3/\"\n",
    "TESTING_F3_DIR = \"/tmp/Liver/testing/f3/\"\n",
    "\n",
    "F4_SOURCE_DIR = \"../../../Data/Liver/4/\"\n",
    "TRAINING_F4_DIR = \"/tmp/Liver/training/f4/\"\n",
    "TESTING_F4_DIR = \"/tmp/Liver/testing/f4/\"\n",
    "\n",
    "split_size = .85\n",
    "\n",
    "split_data(F0_SOURCE_DIR, TRAINING_F0_DIR, TESTING_F0_DIR, split_size)\n",
    "split_data(F1_SOURCE_DIR, TRAINING_F1_DIR, TESTING_F1_DIR, split_size)\n",
    "split_data(F2_SOURCE_DIR, TRAINING_F2_DIR, TESTING_F2_DIR, split_size)\n",
    "split_data(F3_SOURCE_DIR, TRAINING_F3_DIR, TESTING_F3_DIR, split_size)\n",
    "split_data(F4_SOURCE_DIR, TRAINING_F4_DIR, TESTING_F4_DIR, split_size)"
   ]
  },
  {
   "cell_type": "code",
   "execution_count": 5,
   "metadata": {
    "scrolled": true
   },
   "outputs": [
    {
     "name": "stdout",
     "output_type": "stream",
     "text": [
      "Training Fibrosis 0: 945\n",
      "Testing Fibrosis 0: 167\n",
      "--------------------\n",
      "Training Fibrosis 1: 118\n",
      "Testing Fibrosis 1: 21\n",
      "--------------------\n",
      "Training Fibrosis 2: 114\n",
      "Testing Fibrosis 2: 21\n",
      "--------------------\n",
      "Training Fibrosis 3: 384\n",
      "Testing Fibrosis 3: 68\n",
      "--------------------\n",
      "Training Fibrosis 4: 774\n",
      "Testing Fibrosis 4: 137\n",
      "--------------------\n"
     ]
    }
   ],
   "source": [
    "print(\"Training Fibrosis 0:\", len(os.listdir(TRAINING_F0_DIR)))\n",
    "print(\"Testing Fibrosis 0:\", len(os.listdir(TESTING_F0_DIR)))\n",
    "print(\"-\"*20)\n",
    "print(\"Training Fibrosis 1:\", len(os.listdir(TRAINING_F1_DIR)))\n",
    "print(\"Testing Fibrosis 1:\", len(os.listdir(TESTING_F1_DIR)))\n",
    "print(\"-\"*20)\n",
    "print(\"Training Fibrosis 2:\", len(os.listdir(TRAINING_F2_DIR)))\n",
    "print(\"Testing Fibrosis 2:\", len(os.listdir(TESTING_F2_DIR)))\n",
    "print(\"-\"*20)\n",
    "print(\"Training Fibrosis 3:\", len(os.listdir(TRAINING_F3_DIR)))\n",
    "print(\"Testing Fibrosis 3:\", len(os.listdir(TESTING_F3_DIR)))\n",
    "print(\"-\"*20)\n",
    "print(\"Training Fibrosis 4:\", len(os.listdir(TRAINING_F4_DIR)))\n",
    "print(\"Testing Fibrosis 4:\", len(os.listdir(TESTING_F4_DIR)))\n",
    "print(\"-\"*20)"
   ]
  },
  {
   "cell_type": "code",
   "execution_count": 6,
   "metadata": {},
   "outputs": [],
   "source": [
    "class myCallback(tf.keras.callbacks.Callback):\n",
    "    def on_epoch_end(self, epoch, logs={}):\n",
    "        if(logs.get('acc')>0.99):\n",
    "            print(\"\\nReached 99.0% accuracy so cancelling training!\")\n",
    "            self.model.stop_training = True"
   ]
  },
  {
   "cell_type": "code",
   "execution_count": 7,
   "metadata": {},
   "outputs": [],
   "source": [
    "from tensorflow.keras.optimizers import RMSprop"
   ]
  },
  {
   "cell_type": "code",
   "execution_count": 8,
   "metadata": {},
   "outputs": [],
   "source": [
    "model = tf.keras.models.Sequential([\n",
    "    tf.keras.layers.Conv2D(16, (3,3), activation='relu', input_shape=(600,800,1)),\n",
    "    tf.keras.layers.MaxPooling2D(2,2),\n",
    "    tf.keras.layers.Conv2D(32, (3,3), activation='relu'),\n",
    "    tf.keras.layers.MaxPooling2D(2,2),\n",
    "    tf.keras.layers.Conv2D(64, (3,3), activation='relu'),\n",
    "    tf.keras.layers.MaxPooling2D(2,2),\n",
    "    tf.keras.layers.Conv2D(64, (3,3), activation='relu'),\n",
    "    tf.keras.layers.MaxPooling2D(2,2),\n",
    "    tf.keras.layers.Conv2D(128, (3,3), activation='relu'),\n",
    "    tf.keras.layers.MaxPooling2D(2,2),\n",
    "    tf.keras.layers.Flatten(),\n",
    "    tf.keras.layers.Dense(512, activation='relu'),\n",
    "    tf.keras.layers.Dense(128, activation='relu'),\n",
    "    tf.keras.layers.Dense(64, activation='relu'),\n",
    "    tf.keras.layers.Dense(5, activation='softmax')\n",
    "    \n",
    "])"
   ]
  },
  {
   "cell_type": "code",
   "execution_count": null,
   "metadata": {},
   "outputs": [],
   "source": [
    "\"\"\"\n",
    "model.compile(optimizer=RMSprop(lr=0.001),\n",
    "              loss='categorical_crossentropy',\n",
    "              metrics=['acc'])\n",
    "\"\"\""
   ]
  },
  {
   "cell_type": "code",
   "execution_count": 9,
   "metadata": {},
   "outputs": [],
   "source": [
    "\n",
    "optimizer = RMSprop(lr=1e-5, momentum=0.9)\n",
    "model.compile(loss='categorical_crossentropy',\n",
    "              optimizer=optimizer,\n",
    "              metrics=[\"acc\"])         \n"
   ]
  },
  {
   "cell_type": "code",
   "execution_count": 10,
   "metadata": {
    "scrolled": false
   },
   "outputs": [
    {
     "name": "stdout",
     "output_type": "stream",
     "text": [
      "Model: \"sequential\"\n",
      "_________________________________________________________________\n",
      "Layer (type)                 Output Shape              Param #   \n",
      "=================================================================\n",
      "conv2d (Conv2D)              (None, 598, 798, 16)      160       \n",
      "_________________________________________________________________\n",
      "max_pooling2d (MaxPooling2D) (None, 299, 399, 16)      0         \n",
      "_________________________________________________________________\n",
      "conv2d_1 (Conv2D)            (None, 297, 397, 32)      4640      \n",
      "_________________________________________________________________\n",
      "max_pooling2d_1 (MaxPooling2 (None, 148, 198, 32)      0         \n",
      "_________________________________________________________________\n",
      "conv2d_2 (Conv2D)            (None, 146, 196, 64)      18496     \n",
      "_________________________________________________________________\n",
      "max_pooling2d_2 (MaxPooling2 (None, 73, 98, 64)        0         \n",
      "_________________________________________________________________\n",
      "conv2d_3 (Conv2D)            (None, 71, 96, 64)        36928     \n",
      "_________________________________________________________________\n",
      "max_pooling2d_3 (MaxPooling2 (None, 35, 48, 64)        0         \n",
      "_________________________________________________________________\n",
      "conv2d_4 (Conv2D)            (None, 33, 46, 128)       73856     \n",
      "_________________________________________________________________\n",
      "max_pooling2d_4 (MaxPooling2 (None, 16, 23, 128)       0         \n",
      "_________________________________________________________________\n",
      "flatten (Flatten)            (None, 47104)             0         \n",
      "_________________________________________________________________\n",
      "dense (Dense)                (None, 512)               24117760  \n",
      "_________________________________________________________________\n",
      "dense_1 (Dense)              (None, 128)               65664     \n",
      "_________________________________________________________________\n",
      "dense_2 (Dense)              (None, 64)                8256      \n",
      "_________________________________________________________________\n",
      "dense_3 (Dense)              (None, 5)                 325       \n",
      "=================================================================\n",
      "Total params: 24,326,085\n",
      "Trainable params: 24,326,085\n",
      "Non-trainable params: 0\n",
      "_________________________________________________________________\n"
     ]
    }
   ],
   "source": [
    "model.summary()"
   ]
  },
  {
   "cell_type": "code",
   "execution_count": 11,
   "metadata": {},
   "outputs": [
    {
     "name": "stdout",
     "output_type": "stream",
     "text": [
      "Found 2335 images belonging to 5 classes.\n",
      "Found 414 images belonging to 5 classes.\n"
     ]
    }
   ],
   "source": [
    "from tensorflow.keras.preprocessing.image import ImageDataGenerator \n",
    "\n",
    "TRAINING_DIR = '/tmp/Liver/training'\n",
    "train_datagen = ImageDataGenerator(rescale = 1.0/255.)\n",
    "\n",
    "train_generator = train_datagen.flow_from_directory(TRAINING_DIR,\n",
    "                                                   batch_size=32,\n",
    "                                                   class_mode='categorical',\n",
    "                                                   target_size=(600,800),\n",
    "                                                   color_mode='grayscale') # target_size = (height, width)\n",
    "\n",
    "TESTING_DIR = '/tmp/Liver/testing'\n",
    "test_datagen = ImageDataGenerator(rescale = 1.0/255.)\n",
    "\n",
    "test_generator = train_datagen.flow_from_directory(TESTING_DIR,\n",
    "                                                   batch_size=16,\n",
    "                                                   class_mode='categorical',\n",
    "                                                   target_size=(600,800), \n",
    "                                                   color_mode='grayscale')"
   ]
  },
  {
   "cell_type": "code",
   "execution_count": 12,
   "metadata": {
    "scrolled": true
   },
   "outputs": [
    {
     "name": "stdout",
     "output_type": "stream",
     "text": [
      "WARNING:tensorflow:From <ipython-input-12-dd5cb7bad166>:3: Model.fit_generator (from tensorflow.python.keras.engine.training) is deprecated and will be removed in a future version.\n",
      "Instructions for updating:\n",
      "Please use Model.fit, which supports generators.\n",
      "Epoch 1/40\n",
      " 2/73 [..............................] - ETA: 4s - loss: 1.6057 - acc: 0.3906WARNING:tensorflow:Callbacks method `on_train_batch_end` is slow compared to the batch time (batch time: 0.0471s vs `on_train_batch_end` time: 0.0884s). Check your callbacks.\n",
      "73/73 [==============================] - 12s 163ms/step - loss: 1.3599 - acc: 0.4582 - val_loss: 1.2667 - val_acc: 0.4734\n",
      "Epoch 2/40\n",
      "73/73 [==============================] - 11s 149ms/step - loss: 1.2310 - acc: 0.5315 - val_loss: 1.2039 - val_acc: 0.5242\n",
      "Epoch 3/40\n",
      "73/73 [==============================] - 11s 151ms/step - loss: 1.1776 - acc: 0.5460 - val_loss: 1.1890 - val_acc: 0.5242\n",
      "Epoch 4/40\n",
      "73/73 [==============================] - 11s 151ms/step - loss: 1.1286 - acc: 0.5606 - val_loss: 1.1372 - val_acc: 0.5700\n",
      "Epoch 5/40\n",
      "73/73 [==============================] - 11s 151ms/step - loss: 1.0785 - acc: 0.5704 - val_loss: 1.1375 - val_acc: 0.5531\n",
      "Epoch 6/40\n",
      "73/73 [==============================] - 11s 152ms/step - loss: 1.0144 - acc: 0.5880 - val_loss: 1.1009 - val_acc: 0.5773\n",
      "Epoch 7/40\n",
      "73/73 [==============================] - 11s 151ms/step - loss: 0.9405 - acc: 0.6206 - val_loss: 1.0400 - val_acc: 0.6014\n",
      "Epoch 8/40\n",
      "73/73 [==============================] - 11s 152ms/step - loss: 0.8610 - acc: 0.6595 - val_loss: 1.0212 - val_acc: 0.5966\n",
      "Epoch 9/40\n",
      "73/73 [==============================] - 11s 152ms/step - loss: 0.7515 - acc: 0.7011 - val_loss: 1.0129 - val_acc: 0.5966\n",
      "Epoch 10/40\n",
      "73/73 [==============================] - 11s 151ms/step - loss: 0.6800 - acc: 0.7396 - val_loss: 0.9850 - val_acc: 0.6522\n",
      "Epoch 11/40\n",
      "73/73 [==============================] - 11s 151ms/step - loss: 0.5417 - acc: 0.7923 - val_loss: 1.1810 - val_acc: 0.6087\n",
      "Epoch 12/40\n",
      "73/73 [==============================] - 11s 151ms/step - loss: 0.4398 - acc: 0.8377 - val_loss: 1.1736 - val_acc: 0.6667\n",
      "Epoch 13/40\n",
      "73/73 [==============================] - 11s 151ms/step - loss: 0.3362 - acc: 0.8690 - val_loss: 1.1726 - val_acc: 0.6546\n",
      "Epoch 14/40\n",
      "73/73 [==============================] - 11s 151ms/step - loss: 0.2292 - acc: 0.9238 - val_loss: 1.3793 - val_acc: 0.6401\n",
      "Epoch 15/40\n",
      "73/73 [==============================] - 11s 151ms/step - loss: 0.1732 - acc: 0.9375 - val_loss: 1.6307 - val_acc: 0.6594\n",
      "Epoch 16/40\n",
      "73/73 [==============================] - 11s 151ms/step - loss: 0.1233 - acc: 0.9576 - val_loss: 1.6253 - val_acc: 0.6618\n",
      "Epoch 17/40\n",
      "73/73 [==============================] - 11s 151ms/step - loss: 0.0944 - acc: 0.9636 - val_loss: 1.8429 - val_acc: 0.6570\n",
      "Epoch 18/40\n",
      "73/73 [==============================] - 11s 151ms/step - loss: 0.0572 - acc: 0.9777 - val_loss: 2.1260 - val_acc: 0.6667\n",
      "Epoch 19/40\n",
      "73/73 [==============================] - 11s 156ms/step - loss: 0.0452 - acc: 0.9846 - val_loss: 2.5374 - val_acc: 0.6739\n",
      "Epoch 20/40\n",
      "73/73 [==============================] - 11s 155ms/step - loss: 0.0623 - acc: 0.9773 - val_loss: 1.9789 - val_acc: 0.6643\n",
      "Epoch 21/40\n",
      "73/73 [==============================] - 11s 152ms/step - loss: 0.0388 - acc: 0.9859 - val_loss: 2.0046 - val_acc: 0.6739\n",
      "Epoch 22/40\n",
      "73/73 [==============================] - 11s 152ms/step - loss: 0.0446 - acc: 0.9850 - val_loss: 2.3780 - val_acc: 0.6546\n",
      "Epoch 23/40\n",
      "73/73 [==============================] - 11s 151ms/step - loss: 0.0388 - acc: 0.9859 - val_loss: 2.5970 - val_acc: 0.6787\n",
      "Epoch 24/40\n",
      "73/73 [==============================] - 11s 152ms/step - loss: 0.0407 - acc: 0.9880 - val_loss: 2.3416 - val_acc: 0.6787\n",
      "Epoch 25/40\n",
      "73/73 [==============================] - 11s 151ms/step - loss: 0.0350 - acc: 0.9897 - val_loss: 2.0499 - val_acc: 0.6691\n",
      "Epoch 26/40\n",
      "73/73 [==============================] - 11s 152ms/step - loss: 0.0040 - acc: 1.0000 - val_loss: 2.8340 - val_acc: 0.6860\n",
      "Epoch 27/40\n",
      "73/73 [==============================] - 11s 152ms/step - loss: 0.0018 - acc: 0.9996 - val_loss: 3.0725 - val_acc: 0.6643\n",
      "Epoch 28/40\n",
      "73/73 [==============================] - 11s 154ms/step - loss: 0.0097 - acc: 0.9974 - val_loss: 2.7800 - val_acc: 0.6715\n",
      "Epoch 29/40\n",
      "73/73 [==============================] - 11s 156ms/step - loss: 0.0254 - acc: 0.9927 - val_loss: 3.0896 - val_acc: 0.6353\n",
      "Epoch 30/40\n",
      "73/73 [==============================] - 11s 152ms/step - loss: 0.0171 - acc: 0.9940 - val_loss: 3.1290 - val_acc: 0.6594\n",
      "Epoch 31/40\n",
      "73/73 [==============================] - 11s 152ms/step - loss: 0.0204 - acc: 0.9940 - val_loss: 2.8858 - val_acc: 0.6594\n",
      "Epoch 32/40\n",
      "73/73 [==============================] - 11s 152ms/step - loss: 0.0025 - acc: 0.9996 - val_loss: 3.2822 - val_acc: 0.6836\n",
      "Epoch 33/40\n",
      "73/73 [==============================] - 11s 152ms/step - loss: 0.0151 - acc: 0.9944 - val_loss: 3.5269 - val_acc: 0.6667\n",
      "Epoch 34/40\n",
      "73/73 [==============================] - 11s 152ms/step - loss: 0.0214 - acc: 0.9944 - val_loss: 3.1825 - val_acc: 0.6618\n",
      "Epoch 35/40\n",
      "73/73 [==============================] - 11s 152ms/step - loss: 0.0194 - acc: 0.9923 - val_loss: 3.6503 - val_acc: 0.6473\n",
      "Epoch 36/40\n",
      "73/73 [==============================] - 11s 151ms/step - loss: 0.0175 - acc: 0.9944 - val_loss: 2.8661 - val_acc: 0.6594\n",
      "Epoch 37/40\n",
      "73/73 [==============================] - 11s 152ms/step - loss: 0.0058 - acc: 0.9991 - val_loss: 3.3319 - val_acc: 0.6860\n",
      "Epoch 38/40\n",
      "73/73 [==============================] - 11s 154ms/step - loss: 0.0133 - acc: 0.9944 - val_loss: 3.2985 - val_acc: 0.6667\n",
      "Epoch 39/40\n",
      "73/73 [==============================] - 11s 152ms/step - loss: 0.0095 - acc: 0.9983 - val_loss: 3.1002 - val_acc: 0.6715\n",
      "Epoch 40/40\n",
      "73/73 [==============================] - 11s 152ms/step - loss: 0.0015 - acc: 0.9991 - val_loss: 3.5997 - val_acc: 0.6498\n"
     ]
    }
   ],
   "source": [
    "callbacks = myCallback()\n",
    "\n",
    "history = model.fit_generator(train_generator,\n",
    "                              epochs=40,\n",
    "                              validation_data=test_generator)\n",
    "#                             callbacks=[callbacks]"
   ]
  },
  {
   "cell_type": "code",
   "execution_count": 13,
   "metadata": {},
   "outputs": [
    {
     "ename": "KeyError",
     "evalue": "'lr'",
     "output_type": "error",
     "traceback": [
      "\u001b[0;31m---------------------------------------------------------------------------\u001b[0m",
      "\u001b[0;31mKeyError\u001b[0m                                  Traceback (most recent call last)",
      "\u001b[0;32m<ipython-input-13-ac937b41a781>\u001b[0m in \u001b[0;36m<module>\u001b[0;34m\u001b[0m\n\u001b[1;32m      3\u001b[0m \u001b[0;32mimport\u001b[0m \u001b[0mmatplotlib\u001b[0m\u001b[0;34m.\u001b[0m\u001b[0mpyplot\u001b[0m \u001b[0;32mas\u001b[0m \u001b[0mplt\u001b[0m\u001b[0;34m\u001b[0m\u001b[0;34m\u001b[0m\u001b[0m\n\u001b[1;32m      4\u001b[0m \u001b[0;34m\u001b[0m\u001b[0m\n\u001b[0;32m----> 5\u001b[0;31m \u001b[0mplt\u001b[0m\u001b[0;34m.\u001b[0m\u001b[0msemilogx\u001b[0m\u001b[0;34m(\u001b[0m\u001b[0mhistory\u001b[0m\u001b[0;34m.\u001b[0m\u001b[0mhistory\u001b[0m\u001b[0;34m[\u001b[0m\u001b[0;34m\"lr\"\u001b[0m\u001b[0;34m]\u001b[0m\u001b[0;34m,\u001b[0m \u001b[0mhistory\u001b[0m\u001b[0;34m.\u001b[0m\u001b[0mhistory\u001b[0m\u001b[0;34m[\u001b[0m\u001b[0;34m\"loss\"\u001b[0m\u001b[0;34m]\u001b[0m\u001b[0;34m)\u001b[0m\u001b[0;34m\u001b[0m\u001b[0;34m\u001b[0m\u001b[0m\n\u001b[0m\u001b[1;32m      6\u001b[0m \u001b[0mplt\u001b[0m\u001b[0;34m.\u001b[0m\u001b[0maxis\u001b[0m\u001b[0;34m(\u001b[0m\u001b[0;34m[\u001b[0m\u001b[0;36m1e-8\u001b[0m\u001b[0;34m,\u001b[0m \u001b[0;36m1e-4\u001b[0m\u001b[0;34m,\u001b[0m \u001b[0;36m0\u001b[0m\u001b[0;34m,\u001b[0m \u001b[0;36m60\u001b[0m\u001b[0;34m]\u001b[0m\u001b[0;34m)\u001b[0m\u001b[0;34m\u001b[0m\u001b[0;34m\u001b[0m\u001b[0m\n",
      "\u001b[0;31mKeyError\u001b[0m: 'lr'"
     ]
    }
   ],
   "source": [
    "# check the proper learning rate(lr)\n",
    "\n",
    "import matplotlib.pyplot as plt\n",
    "\n",
    "plt.semilogx(history.history[\"lr\"], history.history[\"loss\"])\n",
    "plt.axis([1e-8, 1e-4, 0, 60])"
   ]
  },
  {
   "cell_type": "code",
   "execution_count": 15,
   "metadata": {},
   "outputs": [
    {
     "data": {
      "image/png": "[encoded data removed]",
      "text/plain": [
       "<Figure size 432x288 with 1 Axes>"
      ]
     },
     "metadata": {
      "needs_background": "light"
     },
     "output_type": "display_data"
    },
    {
     "data": {
      "image/png": "[encoded data removed]",
      "text/plain": [
       "<Figure size 432x288 with 1 Axes>"
      ]
     },
     "metadata": {
      "needs_background": "light"
     },
     "output_type": "display_data"
    }
   ],
   "source": [
    "def plot_graphs(history, string):\n",
    "    plt.plot(history.history[string])\n",
    "    plt.plot(history.history['val_'+string])\n",
    "    plt.xlabel(\"Epochs\")\n",
    "    plt.ylabel(string)\n",
    "    plt.legend([string, 'val_'+string])\n",
    "    plt.show()\n",
    "    \n",
    "plot_graphs(history, \"acc\")\n",
    "plot_graphs(history, \"loss\")"
   ]
  },
  {
   "cell_type": "code",
   "execution_count": null,
   "metadata": {},
   "outputs": [],
   "source": [
    "import os, signal\n",
    "\n",
    "os.kill(os.getpid(),signal.SIGKILL)"
   ]
  },
  {
   "cell_type": "code",
   "execution_count": null,
   "metadata": {},
   "outputs": [],
   "source": []
  }
 ],
 "metadata": {
  "kernelspec": {
   "display_name": "Python 3",
   "language": "python",
   "name": "python3"
  },
  "language_info": {
   "codemirror_mode": {
    "name": "ipython",
    "version": 3
   },
   "file_extension": ".py",
   "mimetype": "text/x-python",
   "name": "python",
   "nbconvert_exporter": "python",
   "pygments_lexer": "ipython3",
   "version": "3.8.3"
  }
 },
 "nbformat": 4,
 "nbformat_minor": 4
}
