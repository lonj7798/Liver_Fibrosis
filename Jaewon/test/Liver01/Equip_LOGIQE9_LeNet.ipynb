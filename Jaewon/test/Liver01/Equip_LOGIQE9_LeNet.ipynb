{
 "cells": [
  {
   "cell_type": "code",
   "execution_count": 1,
   "metadata": {},
   "outputs": [],
   "source": [
    "import pandas as pd\n",
    "import numpy as np\n",
    "\n",
    "\n",
    "import tensorflow as tf\n",
    "from tensorflow.keras.preprocessing.image import ImageDataGenerator \n",
    "\n",
    "import zipfile\n",
    "import os\n",
    "import shutil\n",
    "import random"
   ]
  },
  {
   "cell_type": "code",
   "execution_count": 2,
   "metadata": {},
   "outputs": [],
   "source": [
    "data = pd.read_csv(\"data.csv\")"
   ]
  },
  {
   "cell_type": "code",
   "execution_count": 3,
   "metadata": {},
   "outputs": [],
   "source": [
    "data.Fibrosis = data.Fibrosis.replace('-', np.NaN)"
   ]
  },
  {
   "cell_type": "code",
   "execution_count": 4,
   "metadata": {
    "scrolled": true
   },
   "outputs": [
    {
     "data": {
      "text/plain": [
       "IU22        101\n",
       "LOGIQE9      99\n",
       "iu22         78\n",
       "EUB-7500     70\n",
       "eub-7500     45\n",
       "S2000        28\n",
       "s2000         5\n",
       "Name: Equipment, dtype: int64"
      ]
     },
     "execution_count": 4,
     "metadata": {},
     "output_type": "execute_result"
    }
   ],
   "source": [
    "data.Equipment.value_counts()"
   ]
  },
  {
   "cell_type": "code",
   "execution_count": 5,
   "metadata": {},
   "outputs": [],
   "source": [
    "# to upper character\n",
    "\n",
    "data['Equipment'] = data['Equipment'].apply(lambda x: x.upper())"
   ]
  },
  {
   "cell_type": "code",
   "execution_count": 6,
   "metadata": {},
   "outputs": [],
   "source": [
    "def sort_by_equipment(equipment):\n",
    "    return data[(data['Equipment'] == equipment)]['Fibrosis'].value_counts()"
   ]
  },
  {
   "cell_type": "code",
   "execution_count": 7,
   "metadata": {},
   "outputs": [
    {
     "data": {
      "text/plain": [
       "4    49\n",
       "3    24\n",
       "0    16\n",
       "2     9\n",
       "1     8\n",
       "Name: Fibrosis, dtype: int64"
      ]
     },
     "execution_count": 7,
     "metadata": {},
     "output_type": "execute_result"
    }
   ],
   "source": [
    "sort_by_equipment('EUB-7500')"
   ]
  },
  {
   "cell_type": "code",
   "execution_count": 8,
   "metadata": {},
   "outputs": [
    {
     "data": {
      "text/plain": [
       "0    43\n",
       "4    29\n",
       "3    11\n",
       "1     3\n",
       "2     1\n",
       "Name: Fibrosis, dtype: int64"
      ]
     },
     "execution_count": 8,
     "metadata": {},
     "output_type": "execute_result"
    }
   ],
   "source": [
    "sort_by_equipment('LOGIQE9')"
   ]
  },
  {
   "cell_type": "code",
   "execution_count": 9,
   "metadata": {},
   "outputs": [],
   "source": [
    "# train with 'EUB-7500'\n",
    "# train with 'LOGIQE9'"
   ]
  },
  {
   "cell_type": "code",
   "execution_count": 10,
   "metadata": {},
   "outputs": [],
   "source": [
    "data.Fibrosis = pd.to_numeric(data.Fibrosis)"
   ]
  },
  {
   "cell_type": "code",
   "execution_count": 11,
   "metadata": {},
   "outputs": [],
   "source": [
    "# divide the data by Equipment\n",
    "\n",
    "def fill_zero(f):\n",
    "    for i in range(len(f)):\n",
    "        f[i] = f[i].zfill(4)\n",
    "    \n",
    "    return f\n",
    "\n",
    "def sort_by_tool(equipment):\n",
    "    f_neg = data[(data['Fibrosis']==0) & (data['Equipment']==equipment.upper())].number.astype(str).tolist()\n",
    "    f_pos = data[(data['Fibrosis']!=0) & (data['Equipment']==equipment.upper())].number.astype(str).tolist()\n",
    "    \n",
    "    # fill the zeros (for foloder name)\n",
    "    f_neg = fill_zero(f_neg)\n",
    "    f_pos = fill_zero(f_pos)\n",
    "    \n",
    "    return f_neg, f_pos\n",
    "\n",
    "\n",
    "def move_to_tmp(local_zip, equipment, base_loc):\n",
    "    zip_ref = zipfile.ZipFile(local_zip, 'r')\n",
    "    zip_ref.extractall('/tmp/Liver_'+equipment)\n",
    "    zip_ref.close()\n",
    "\n",
    "def make_folder(base_loc):\n",
    "    try:\n",
    "        os.mkdir(base_loc)\n",
    "        os.mkdir(base_loc+'/training')\n",
    "        os.mkdir(base_loc+'/training/f0')\n",
    "        os.mkdir(base_loc+'/training/f1')\n",
    "        os.mkdir(base_loc+'/testing')\n",
    "        os.mkdir(base_loc+'/testing/f0')\n",
    "        os.mkdir(base_loc+'/testing/f1')\n",
    "\n",
    "    except OSError:\n",
    "        pass\n",
    "\n",
    "def move_to_folder(f_, folder_loc, split, base_loc):\n",
    "    split = int(len(f_)*(1-split))\n",
    "    \n",
    "    f_train = f_[:split]\n",
    "    f_test = f_[split:]\n",
    "    \n",
    "    print(folder_loc,':',len(f_train))\n",
    "    print(folder_loc,':',len(f_test))\n",
    "    \n",
    "    new_name = 0\n",
    "    for folder_name in f_train:\n",
    "        for root, subdirs, files in os.walk(base_loc+'/'+folder_name):\n",
    "            for f in files:\n",
    "                if 'mask' not in f:\n",
    "                    # file_name change\n",
    "                    try:\n",
    "                        file_to_change = os.path.join(root, f)\n",
    "                        dst = str(new_name)+'.tif'\n",
    "                        dst = os.path.join(root, dst)\n",
    "                        os.rename(file_to_change, dst)\n",
    "                        new_name += 1\n",
    "                        tmp = base_loc+'/training/'+folder_loc\n",
    "                        # file move\n",
    "                        shutil.move(dst, tmp)\n",
    "                    except:\n",
    "                        print('error')\n",
    "    \n",
    "    new_name = 0                    \n",
    "    for folder_name in f_test:\n",
    "        for root, subdirs, files in os.walk(base_loc+'/'+folder_name):\n",
    "            for f in files:\n",
    "                if 'mask' not in f:\n",
    "                    # file_name change\n",
    "                    try:\n",
    "                        file_to_change = os.path.join(root, f)\n",
    "                        dst = str(new_name)+'.tif'\n",
    "                        dst = os.path.join(root, dst)\n",
    "                        os.rename(file_to_change, dst)\n",
    "                        new_name += 1\n",
    "                        tmp = base_loc+'/testing/'+folder_loc\n",
    "                        # file move\n",
    "                        shutil.move(dst, tmp)\n",
    "                    except:\n",
    "                        print('error')"
   ]
  },
  {
   "cell_type": "code",
   "execution_count": 12,
   "metadata": {},
   "outputs": [],
   "source": [
    "def train_test_split(equipment, local_zip, split_size):\n",
    "    equipment = equipment.upper()\n",
    "    f_false, f_true = sort_by_tool(equipment)\n",
    "    \n",
    "    random.shuffle(f_false)\n",
    "    random.shuffle(f_true)\n",
    "    \n",
    "    make_folder(base_loc)\n",
    "    move_to_tmp(local_zip, equipment, base_loc)\n",
    "    \n",
    "    move_to_folder(f_false, 'f0', 0.2, base_loc)\n",
    "    move_to_folder(f_true, 'f1', 0.2, base_loc)"
   ]
  },
  {
   "cell_type": "code",
   "execution_count": 13,
   "metadata": {},
   "outputs": [],
   "source": [
    "def ImageGenerator(base_loc):\n",
    "    TRAINING_DIR = base_loc+'/training'\n",
    "    train_datagen = ImageDataGenerator(rescale = 1.0/255.)\n",
    "\n",
    "    train_generator = train_datagen.flow_from_directory(TRAINING_DIR,\n",
    "                                                       batch_size=64,\n",
    "                                                       class_mode='binary',\n",
    "                                                       target_size=(600,800),\n",
    "                                                       color_mode='grayscale') # target_size = (height, width)\n",
    "\n",
    "    TESTING_DIR = base_loc+'/testing'\n",
    "    test_datagen = ImageDataGenerator(rescale = 1.0/255.)\n",
    "\n",
    "    test_generator = train_datagen.flow_from_directory(TESTING_DIR,\n",
    "                                                       batch_size=32,\n",
    "                                                       class_mode='binary',\n",
    "                                                       target_size=(600,800), \n",
    "                                                       color_mode='grayscale')\n",
    "    \n",
    "    return train_generator, test_generator"
   ]
  },
  {
   "cell_type": "code",
   "execution_count": 14,
   "metadata": {
    "scrolled": true
   },
   "outputs": [],
   "source": [
    "# change\n",
    "equipment = 'LOGIQE9' \n",
    "local_zip = '../../../Data/Liver.zip'\n",
    "base_loc = '/tmp/Liver_' + equipment"
   ]
  },
  {
   "cell_type": "code",
   "execution_count": 15,
   "metadata": {},
   "outputs": [
    {
     "name": "stdout",
     "output_type": "stream",
     "text": [
      "f0 : 34\n",
      "f0 : 9\n",
      "f1 : 44\n",
      "f1 : 12\n"
     ]
    }
   ],
   "source": [
    "train_test_split(equipment, local_zip, 0.2)"
   ]
  },
  {
   "cell_type": "code",
   "execution_count": 20,
   "metadata": {},
   "outputs": [],
   "source": [
    "# training"
   ]
  },
  {
   "cell_type": "code",
   "execution_count": 16,
   "metadata": {},
   "outputs": [
    {
     "name": "stdout",
     "output_type": "stream",
     "text": [
      "Training Fibrosis 0: 239\n",
      "Testing Fibrosis 0: 73\n",
      "-------------------------\n",
      "Training Fibrosis 1: 363\n",
      "Testing Fibrosis 1: 47\n"
     ]
    }
   ],
   "source": [
    "print(\"Training Fibrosis 0:\", len(os.listdir(base_loc+'/training/f0')))\n",
    "print(\"Testing Fibrosis 0:\", len(os.listdir(base_loc+'/testing/f0')))\n",
    "print(\"-\"*25)\n",
    "print(\"Training Fibrosis 1:\", len(os.listdir(base_loc+'/training/f1')))\n",
    "print(\"Testing Fibrosis 1:\", len(os.listdir(base_loc+'/testing/f1')))"
   ]
  },
  {
   "cell_type": "code",
   "execution_count": 17,
   "metadata": {
    "scrolled": true
   },
   "outputs": [
    {
     "name": "stdout",
     "output_type": "stream",
     "text": [
      "Found 602 images belonging to 2 classes.\n",
      "Found 120 images belonging to 2 classes.\n",
      "Model: \"sequential\"\n",
      "_________________________________________________________________\n",
      "Layer (type)                 Output Shape              Param #   \n",
      "=================================================================\n",
      "conv2d (Conv2D)              (None, 596, 796, 6)       156       \n",
      "_________________________________________________________________\n",
      "average_pooling2d (AveragePo (None, 298, 398, 6)       0         \n",
      "_________________________________________________________________\n",
      "conv2d_1 (Conv2D)            (None, 294, 394, 16)      2416      \n",
      "_________________________________________________________________\n",
      "average_pooling2d_1 (Average (None, 147, 197, 16)      0         \n",
      "_________________________________________________________________\n",
      "flatten (Flatten)            (None, 463344)            0         \n",
      "_________________________________________________________________\n",
      "dense (Dense)                (None, 128)               59308160  \n",
      "_________________________________________________________________\n",
      "dense_1 (Dense)              (None, 64)                8256      \n",
      "_________________________________________________________________\n",
      "dense_2 (Dense)              (None, 32)                2080      \n",
      "_________________________________________________________________\n",
      "dense_3 (Dense)              (None, 1)                 33        \n",
      "=================================================================\n",
      "Total params: 59,321,101\n",
      "Trainable params: 59,321,101\n",
      "Non-trainable params: 0\n",
      "_________________________________________________________________\n"
     ]
    }
   ],
   "source": [
    "train_generator, test_generator = ImageGenerator(base_loc)\n",
    "\n",
    "model = tf.keras.models.Sequential([\n",
    "    tf.keras.layers.Conv2D(6, (5,5), activation='relu', input_shape=(600,800,1)),\n",
    "    tf.keras.layers.AveragePooling2D(pool_size=(2, 2), strides=(2, 2), padding='valid'),\n",
    "    tf.keras.layers.Conv2D(16, (5,5), activation='relu'),\n",
    "    tf.keras.layers.AveragePooling2D(pool_size=(2, 2), strides=(2, 2), padding='valid'),\n",
    "    tf.keras.layers.Flatten(),\n",
    "    tf.keras.layers.Dense(128, activation='relu'),\n",
    "    tf.keras.layers.Dense(64, activation='relu'),\n",
    "    tf.keras.layers.Dense(32, activation='relu'),\n",
    "    tf.keras.layers.Dense(1, activation='sigmoid')\n",
    "])\n",
    "model.summary()"
   ]
  },
  {
   "cell_type": "code",
   "execution_count": 19,
   "metadata": {
    "scrolled": true
   },
   "outputs": [
    {
     "name": "stdout",
     "output_type": "stream",
     "text": [
      "WARNING:tensorflow:From <ipython-input-19-ac0d73c125c8>:11: Model.fit_generator (from tensorflow.python.keras.engine.training) is deprecated and will be removed in a future version.\n",
      "Instructions for updating:\n",
      "Please use Model.fit, which supports generators.\n",
      "Epoch 1/50\n",
      " 2/10 [=====>........................] - ETA: 0s - loss: 0.8111 - acc: 0.6172WARNING:tensorflow:Callbacks method `on_train_batch_end` is slow compared to the batch time (batch time: 0.0571s vs `on_train_batch_end` time: 0.1184s). Check your callbacks.\n",
      "10/10 [==============================] - 2s 221ms/step - loss: 0.7014 - acc: 0.6179 - val_loss: 0.8091 - val_acc: 0.3917\n",
      "Epoch 2/50\n",
      "10/10 [==============================] - 2s 173ms/step - loss: 0.6676 - acc: 0.6196 - val_loss: 0.6804 - val_acc: 0.5833\n",
      "Epoch 3/50\n",
      "10/10 [==============================] - 2s 172ms/step - loss: 0.6079 - acc: 0.6860 - val_loss: 0.6898 - val_acc: 0.5417\n",
      "Epoch 4/50\n",
      "10/10 [==============================] - 2s 177ms/step - loss: 0.5827 - acc: 0.7010 - val_loss: 0.6960 - val_acc: 0.5500\n",
      "Epoch 5/50\n",
      "10/10 [==============================] - 2s 186ms/step - loss: 0.5683 - acc: 0.7143 - val_loss: 0.6693 - val_acc: 0.5750\n",
      "Epoch 6/50\n",
      "10/10 [==============================] - 2s 185ms/step - loss: 0.5165 - acc: 0.7575 - val_loss: 1.0367 - val_acc: 0.4667\n",
      "Epoch 7/50\n",
      "10/10 [==============================] - 2s 173ms/step - loss: 0.5134 - acc: 0.7575 - val_loss: 0.7671 - val_acc: 0.5750\n",
      "Epoch 8/50\n",
      "10/10 [==============================] - 2s 173ms/step - loss: 0.4868 - acc: 0.7824 - val_loss: 0.6844 - val_acc: 0.5250\n",
      "Epoch 9/50\n",
      "10/10 [==============================] - 2s 170ms/step - loss: 0.4845 - acc: 0.7757 - val_loss: 0.6944 - val_acc: 0.5750\n",
      "Epoch 10/50\n",
      "10/10 [==============================] - 2s 173ms/step - loss: 0.4473 - acc: 0.8056 - val_loss: 0.7797 - val_acc: 0.5750\n",
      "Epoch 11/50\n",
      "10/10 [==============================] - 2s 174ms/step - loss: 0.4679 - acc: 0.7807 - val_loss: 0.7090 - val_acc: 0.6000\n",
      "Epoch 12/50\n",
      "10/10 [==============================] - 2s 174ms/step - loss: 0.4438 - acc: 0.7990 - val_loss: 0.8671 - val_acc: 0.5500\n",
      "Epoch 13/50\n",
      "10/10 [==============================] - 2s 175ms/step - loss: 0.3994 - acc: 0.8372 - val_loss: 0.8182 - val_acc: 0.5750\n",
      "Epoch 14/50\n",
      "10/10 [==============================] - 2s 176ms/step - loss: 0.3960 - acc: 0.8123 - val_loss: 0.7185 - val_acc: 0.5583\n",
      "Epoch 15/50\n",
      "10/10 [==============================] - 2s 176ms/step - loss: 0.4112 - acc: 0.8173 - val_loss: 0.7062 - val_acc: 0.5667\n",
      "Epoch 16/50\n",
      "10/10 [==============================] - 2s 182ms/step - loss: 0.3744 - acc: 0.8588 - val_loss: 0.7169 - val_acc: 0.5667\n",
      "Epoch 17/50\n",
      "10/10 [==============================] - 2s 177ms/step - loss: 0.3447 - acc: 0.8488 - val_loss: 0.8059 - val_acc: 0.6083\n",
      "Epoch 18/50\n",
      "10/10 [==============================] - 2s 176ms/step - loss: 0.3726 - acc: 0.8355 - val_loss: 0.7223 - val_acc: 0.5750\n",
      "Epoch 19/50\n",
      "10/10 [==============================] - 2s 184ms/step - loss: 0.3250 - acc: 0.8621 - val_loss: 0.9355 - val_acc: 0.6167\n",
      "Epoch 20/50\n",
      "10/10 [==============================] - 2s 172ms/step - loss: 0.3228 - acc: 0.8688 - val_loss: 0.7497 - val_acc: 0.6000\n",
      "Epoch 21/50\n",
      "10/10 [==============================] - 2s 175ms/step - loss: 0.3273 - acc: 0.8488 - val_loss: 0.7774 - val_acc: 0.6167\n",
      "Epoch 22/50\n",
      "10/10 [==============================] - 2s 173ms/step - loss: 0.3073 - acc: 0.8970 - val_loss: 0.8840 - val_acc: 0.6000\n",
      "Epoch 23/50\n",
      "10/10 [==============================] - 2s 173ms/step - loss: 0.3242 - acc: 0.8505 - val_loss: 0.7340 - val_acc: 0.6000\n",
      "Epoch 24/50\n",
      "10/10 [==============================] - 2s 177ms/step - loss: 0.2794 - acc: 0.8920 - val_loss: 0.7434 - val_acc: 0.5750\n",
      "Epoch 25/50\n",
      "10/10 [==============================] - 2s 176ms/step - loss: 0.2869 - acc: 0.8821 - val_loss: 0.7294 - val_acc: 0.6000\n",
      "Epoch 26/50\n",
      "10/10 [==============================] - 2s 175ms/step - loss: 0.2647 - acc: 0.9053 - val_loss: 0.7500 - val_acc: 0.6333\n",
      "Epoch 27/50\n",
      "10/10 [==============================] - 2s 174ms/step - loss: 0.2714 - acc: 0.8870 - val_loss: 0.7808 - val_acc: 0.6167\n",
      "Epoch 28/50\n",
      "10/10 [==============================] - 2s 175ms/step - loss: 0.2432 - acc: 0.9203 - val_loss: 0.7438 - val_acc: 0.6167\n",
      "Epoch 29/50\n",
      "10/10 [==============================] - 2s 175ms/step - loss: 0.2132 - acc: 0.9402 - val_loss: 0.7743 - val_acc: 0.5583\n",
      "Epoch 30/50\n",
      "10/10 [==============================] - 2s 177ms/step - loss: 0.2033 - acc: 0.9419 - val_loss: 1.2795 - val_acc: 0.5500\n",
      "Epoch 31/50\n",
      "10/10 [==============================] - 2s 174ms/step - loss: 0.2606 - acc: 0.9037 - val_loss: 0.7977 - val_acc: 0.6167\n",
      "Epoch 32/50\n",
      "10/10 [==============================] - 2s 186ms/step - loss: 0.2135 - acc: 0.9336 - val_loss: 0.9992 - val_acc: 0.5833\n",
      "Epoch 33/50\n",
      "10/10 [==============================] - 2s 177ms/step - loss: 0.2150 - acc: 0.9169 - val_loss: 0.7880 - val_acc: 0.5583\n",
      "Epoch 34/50\n",
      "10/10 [==============================] - 2s 175ms/step - loss: 0.1788 - acc: 0.9568 - val_loss: 0.8016 - val_acc: 0.5583\n",
      "Epoch 35/50\n",
      "10/10 [==============================] - 2s 184ms/step - loss: 0.2279 - acc: 0.9037 - val_loss: 0.8082 - val_acc: 0.6250\n",
      "Epoch 36/50\n",
      "10/10 [==============================] - 2s 176ms/step - loss: 0.1487 - acc: 0.9767 - val_loss: 0.8419 - val_acc: 0.6250\n",
      "Epoch 37/50\n",
      "10/10 [==============================] - 2s 175ms/step - loss: 0.1930 - acc: 0.9419 - val_loss: 0.7927 - val_acc: 0.5500\n",
      "Epoch 38/50\n",
      "10/10 [==============================] - 2s 177ms/step - loss: 0.1431 - acc: 0.9701 - val_loss: 0.9520 - val_acc: 0.6000\n",
      "Epoch 39/50\n",
      "10/10 [==============================] - 2s 185ms/step - loss: 0.1356 - acc: 0.9734 - val_loss: 1.6024 - val_acc: 0.4917\n",
      "Epoch 40/50\n",
      "10/10 [==============================] - 2s 173ms/step - loss: 0.1385 - acc: 0.9701 - val_loss: 0.8663 - val_acc: 0.6167\n",
      "Epoch 41/50\n",
      "10/10 [==============================] - 2s 176ms/step - loss: 0.1499 - acc: 0.9551 - val_loss: 0.9840 - val_acc: 0.5917\n",
      "Epoch 42/50\n",
      "10/10 [==============================] - ETA: 0s - loss: 0.0932 - acc: 0.9917\n",
      "Reached 99.0% accuracy so cancelling training\n",
      "10/10 [==============================] - 2s 175ms/step - loss: 0.0932 - acc: 0.9917 - val_loss: 1.0761 - val_acc: 0.5917\n"
     ]
    }
   ],
   "source": [
    "class myCallback(tf.keras.callbacks.Callback):\n",
    "    def on_epoch_end(self, epoch, logs={}):\n",
    "        if(logs.get('acc')>0.99):\n",
    "            print(\"\\nReached 99.0% accuracy so cancelling training\")\n",
    "            self.model.stop_training = True\n",
    "\n",
    "model.compile(optimizer=tf.keras.optimizers.RMSprop(lr=0.0001),\n",
    "              loss='binary_crossentropy',\n",
    "              metrics=[\"acc\"])\n",
    "\n",
    "history = model.fit_generator(train_generator,\n",
    "                              epochs=50,\n",
    "                              validation_data=test_generator,\n",
    "                              callbacks = [myCallback()])"
   ]
  },
  {
   "cell_type": "code",
   "execution_count": 20,
   "metadata": {},
   "outputs": [
    {
     "data": {
      "image/png": "[encoded data removed]",
      "text/plain": [
       "<Figure size 432x288 with 1 Axes>"
      ]
     },
     "metadata": {
      "needs_background": "light"
     },
     "output_type": "display_data"
    },
    {
     "data": {
      "image/png": "[encoded data removed]",
      "text/plain": [
       "<Figure size 432x288 with 1 Axes>"
      ]
     },
     "metadata": {
      "needs_background": "light"
     },
     "output_type": "display_data"
    }
   ],
   "source": [
    "import matplotlib.pyplot as plt\n",
    "\n",
    "def plot_graphs(history, string):\n",
    "    plt.plot(history.history[string])\n",
    "    plt.plot(history.history['val_'+string])\n",
    "    plt.xlabel(\"Epochs\")\n",
    "    plt.ylabel(string)\n",
    "    plt.legend([string, 'val_'+string])\n",
    "    plt.show()\n",
    "    \n",
    "plot_graphs(history, \"acc\")\n",
    "plot_graphs(history, \"loss\")"
   ]
  },
  {
   "cell_type": "code",
   "execution_count": 21,
   "metadata": {
    "scrolled": false
   },
   "outputs": [],
   "source": [
    "# delete the data\n",
    "\n",
    "shutil.rmtree('/tmp/Liver_'+equipment)"
   ]
  },
  {
   "cell_type": "code",
   "execution_count": null,
   "metadata": {},
   "outputs": [],
   "source": [
    "import os, signal\n",
    "\n",
    "os.kill(os.getpid(),signal.SIGKILL)"
   ]
  },
  {
   "cell_type": "code",
   "execution_count": null,
   "metadata": {},
   "outputs": [],
   "source": []
  }
 ],
 "metadata": {
  "kernelspec": {
   "display_name": "Python 3",
   "language": "python",
   "name": "python3"
  },
  "language_info": {
   "codemirror_mode": {
    "name": "ipython",
    "version": 3
   },
   "file_extension": ".py",
   "mimetype": "text/x-python",
   "name": "python",
   "nbconvert_exporter": "python",
   "pygments_lexer": "ipython3",
   "version": "3.7.4"
  }
 },
 "nbformat": 4,
 "nbformat_minor": 4
}
