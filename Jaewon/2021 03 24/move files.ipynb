{
 "cells": [
  {
   "cell_type": "code",
   "execution_count": 10,
   "metadata": {},
   "outputs": [],
   "source": [
    "import pandas as pd\n",
    "import numpy as np\n",
    "import os\n",
    "import shutil"
   ]
  },
  {
   "cell_type": "code",
   "execution_count": 11,
   "metadata": {},
   "outputs": [],
   "source": [
    "data = pd.read_csv(\"data.csv\")"
   ]
  },
  {
   "cell_type": "code",
   "execution_count": 12,
   "metadata": {},
   "outputs": [],
   "source": [
    "data.Fibrosis = data.Fibrosis.replace('-', np.NaN)\n",
    "data.Fibrosis = pd.to_numeric(data.Fibrosis)"
   ]
  },
  {
   "cell_type": "code",
   "execution_count": 13,
   "metadata": {},
   "outputs": [],
   "source": [
    "f_0 = data[data['Fibrosis'] == 0].number.astype(str).tolist()\n",
    "f_1 = data[data['Fibrosis'] == 1].number.astype(str).tolist()\n",
    "f_2 = data[data['Fibrosis'] == 2].number.astype(str).tolist()\n",
    "f_3 = data[data['Fibrosis'] == 3].number.astype(str).tolist()\n",
    "f_4 = data[data['Fibrosis'] == 4].number.astype(str).tolist()"
   ]
  },
  {
   "cell_type": "code",
   "execution_count": 14,
   "metadata": {},
   "outputs": [],
   "source": [
    "def fill_zero(f):\n",
    "    for i in range(len(f)):\n",
    "        f[i] = f[i].zfill(4)\n",
    "    \n",
    "    return f"
   ]
  },
  {
   "cell_type": "code",
   "execution_count": 15,
   "metadata": {},
   "outputs": [],
   "source": [
    "f_0 = fill_zero(f_0)\n",
    "f_1 = fill_zero(f_1)\n",
    "f_2 = fill_zero(f_2)\n",
    "f_3 = fill_zero(f_3)\n",
    "f_4 = fill_zero(f_4)"
   ]
  },
  {
   "cell_type": "code",
   "execution_count": 16,
   "metadata": {},
   "outputs": [],
   "source": [
    "try:\n",
    "    new_folder_loc = '../../../Data/Liver_mask'\n",
    "    os.mkdir(new_folder_loc)\n",
    "    os.mkdir(new_folder_loc+'/f_0')\n",
    "    os.mkdir(new_folder_loc+'/f_1')\n",
    "    os.mkdir(new_folder_loc+'/f_2')\n",
    "    os.mkdir(new_folder_loc+'/f_3')\n",
    "    os.mkdir(new_folder_loc+'/f_4')\n",
    "except:\n",
    "    pass"
   ]
  },
  {
   "cell_type": "code",
   "execution_count": 17,
   "metadata": {},
   "outputs": [],
   "source": [
    "def move_to(f_, num):\n",
    "    folder_loc = '../../../Data/Liver'\n",
    "    new_folder_loc = '../../../Data/Liver_mask'\n",
    "    \n",
    "    file_list = os.listdir(folder_loc)\n",
    "    \n",
    "    for fibrosis in f_:\n",
    "        try:\n",
    "            shutil.copytree(folder_loc+'/'+fibrosis, new_folder_loc+'/'+num+'/'+fibrosis)\n",
    "        except:\n",
    "            pass"
   ]
  },
  {
   "cell_type": "code",
   "execution_count": 18,
   "metadata": {},
   "outputs": [],
   "source": [
    "move_to(f_0, 'f_0')\n",
    "move_to(f_1, 'f_1')\n",
    "move_to(f_2, 'f_2')\n",
    "move_to(f_3, 'f_3')\n",
    "move_to(f_4, 'f_4')"
   ]
  },
  {
   "cell_type": "code",
   "execution_count": null,
   "metadata": {},
   "outputs": [],
   "source": []
  }
 ],
 "metadata": {
  "kernelspec": {
   "display_name": "Python 3",
   "language": "python",
   "name": "python3"
  },
  "language_info": {
   "codemirror_mode": {
    "name": "ipython",
    "version": 3
   },
   "file_extension": ".py",
   "mimetype": "text/x-python",
   "name": "python",
   "nbconvert_exporter": "python",
   "pygments_lexer": "ipython3",
   "version": "3.7.4"
  }
 },
 "nbformat": 4,
 "nbformat_minor": 4
}
