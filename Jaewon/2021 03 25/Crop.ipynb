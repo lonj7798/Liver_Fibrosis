{
 "cells": [
  {
   "cell_type": "code",
   "execution_count": 1,
   "metadata": {},
   "outputs": [],
   "source": [
    "import numpy as np, cv2\n",
    "import matplotlib.pyplot as plt\n",
    "import os"
   ]
  },
  {
   "cell_type": "code",
   "execution_count": 2,
   "metadata": {},
   "outputs": [],
   "source": [
    "path = '../../../Data/Liver_mask/'\n",
    "try:\n",
    "    os.mkdir(path+'Fibrosis_0_masked')\n",
    "    os.mkdir(path+'Fibrosis_1_masked')\n",
    "    os.mkdir(path+'Fibrosis_2_masked')\n",
    "    os.mkdir(path+'Fibrosis_3_masked')\n",
    "    os.mkdir(path+'Fibrosis_4_masked')\n",
    "except:\n",
    "    print(\"Already exist\")"
   ]
  },
  {
   "cell_type": "code",
   "execution_count": 3,
   "metadata": {},
   "outputs": [],
   "source": [
    "def masked(folder, new_folder):\n",
    "    img_list = os.listdir(path+folder)\n",
    "    \n",
    "    for img in img_list:\n",
    "        if img not in 'mask':\n",
    "            try:\n",
    "                img_original = cv2.imread(path+folder+'/'+img)\n",
    "                img_mask = cv2.imread(path+folder+'/'+img[:-4]+'_mask.tif')\n",
    "\n",
    "                img_masked = cv2.bitwise_and(img_original, img_mask)\n",
    "\n",
    "                cv2.imwrite(path+new_folder+'/'+img[:-4]+'_masked.tif', img_masked) \n",
    "            except:\n",
    "                pass"
   ]
  },
  {
   "cell_type": "code",
   "execution_count": 4,
   "metadata": {},
   "outputs": [],
   "source": [
    "masked('Fibrosis_0', 'Fibrosis_0_masked')"
   ]
  },
  {
   "cell_type": "code",
   "execution_count": 5,
   "metadata": {},
   "outputs": [],
   "source": [
    "masked('Fibrosis_1', 'Fibrosis_1_masked')"
   ]
  },
  {
   "cell_type": "code",
   "execution_count": 6,
   "metadata": {},
   "outputs": [],
   "source": [
    "masked('Fibrosis_2', 'Fibrosis_2_masked')"
   ]
  },
  {
   "cell_type": "code",
   "execution_count": 7,
   "metadata": {},
   "outputs": [],
   "source": [
    "masked('Fibrosis_3', 'Fibrosis_3_masked')"
   ]
  },
  {
   "cell_type": "code",
   "execution_count": 8,
   "metadata": {},
   "outputs": [],
   "source": [
    "masked('Fibrosis_4', 'Fibrosis_4_masked')"
   ]
  }
 ],
 "metadata": {
  "kernelspec": {
   "display_name": "Python 3",
   "language": "python",
   "name": "python3"
  },
  "language_info": {
   "codemirror_mode": {
    "name": "ipython",
    "version": 3
   },
   "file_extension": ".py",
   "mimetype": "text/x-python",
   "name": "python",
   "nbconvert_exporter": "python",
   "pygments_lexer": "ipython3",
   "version": "3.7.4"
  }
 },
 "nbformat": 4,
 "nbformat_minor": 2
}
