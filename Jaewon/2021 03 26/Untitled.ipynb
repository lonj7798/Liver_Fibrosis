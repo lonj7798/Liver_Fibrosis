{
 "cells": [
  {
   "cell_type": "code",
   "execution_count": 2,
   "metadata": {},
   "outputs": [],
   "source": [
    "import numpy as np\n",
    "import pandas as pd\n",
    "\n",
    "import os"
   ]
  },
  {
   "cell_type": "code",
   "execution_count": 4,
   "metadata": {},
   "outputs": [
    {
     "data": {
      "text/plain": [
       "'/home/jaewon/MyWork/Data/Liver_mask'"
      ]
     },
     "execution_count": 4,
     "metadata": {},
     "output_type": "execute_result"
    }
   ],
   "source": [
    "path = \"../../../Data/Liver_mask\"\n",
    "os.chdir(path)\n",
    "os.getcwd()"
   ]
  },
  {
   "cell_type": "code",
   "execution_count": null,
   "metadata": {},
   "outputs": [],
   "source": [
    "os."
   ]
  },
  {
   "cell_type": "code",
   "execution_count": 12,
   "metadata": {},
   "outputs": [],
   "source": [
    "f0 = os.listdir('Fibrosis_0_masked')\n",
    "f1 = os.listdir('Fibrosis_1_masked')\n",
    "f2 = os.listdir('Fibrosis_2_masked')\n",
    "f3 = os.listdir('Fibrosis_3_masked')\n",
    "f4 = os.listdir('Fibrosis_4_masked')"
   ]
  },
  {
   "cell_type": "code",
   "execution_count": 13,
   "metadata": {},
   "outputs": [
    {
     "name": "stdout",
     "output_type": "stream",
     "text": [
      "Fibrosis 0: 896\n",
      "Fibrosis 1: 273\n",
      "Fibrosis 2: 273\n",
      "Fibrosis 3: 452\n",
      "Fibrosis 4: 911\n"
     ]
    }
   ],
   "source": [
    "print(\"Fibrosis 0:\", len(f0))\n",
    "print(\"Fibrosis 1:\", len(f1))\n",
    "print(\"Fibrosis 2:\", len(f2))\n",
    "print(\"Fibrosis 3:\", len(f3))\n",
    "print(\"Fibrosis 4:\", len(f4))\n",
    "\n",
    "# image classification\n",
    "# 200 images for training"
   ]
  },
  {
   "cell_type": "code",
   "execution_count": 14,
   "metadata": {},
   "outputs": [],
   "source": [
    "def make_folder():\n",
    "    try:\n",
    "        os.mkdir('/tmp/Liver')\n",
    "        os.mkdir('/tmp/Liver/train_f0')\n",
    "        os.mkdir('/tmp/Liver/test_f0')\n",
    "        os.mkdir('/tmp/Liver/train_f1')\n",
    "        os.mkdir('/tmp/Liver/test_f1')\n",
    "        os.mkdir('/tmp/Liver/train_f2')\n",
    "        os.mkdir('/tmp/Liver/test_f2')\n",
    "        os.mkdir('/tmp/Liver/train_f3')\n",
    "        os.mkdir('/tmp/Liver/test_f3')\n",
    "        os.mkdir('/tmp/Liver/train_f4')\n",
    "        os.mkdir('/tmp/Liver/test_f4')\n",
    "    except:\n",
    "        pass\n",
    "\n",
    "\n",
    "def train_test_split(num, f_, f_level):\n",
    "    random.shuffle(f_)\n",
    "    \n",
    "    f_train = f_[:num]\n",
    "    f_test = f_[num:]\n",
    "    print(f_level, \" train: \", len(f_train))\n",
    "    print(f_level, \" test: \", len(f_test))\n",
    "    \n",
    "    folder_name = \"Fibrosis_\"+str(f_level)+\"_masked\"\n",
    "    img_path = \"../../../Data/Liver_mask/\" + folder_name\n",
    "    train_path = '/tmp/Liver/train_f'+str(f_level)\n",
    "    test_path = '/tmp/Liver/test_f'+str(f_level)\n",
    "    \n",
    "    for img in f_train:\n",
    "        shutil.copyfile(img_path+'/'+img, train_path+'/'+img)\n",
    "        \n",
    "    for img in f_test:\n",
    "        shutil.copyfile(img_path+'/'+img, test_path+'/'+img)"
   ]
  },
  {
   "cell_type": "code",
   "execution_count": null,
   "metadata": {},
   "outputs": [],
   "source": []
  }
 ],
 "metadata": {
  "kernelspec": {
   "display_name": "Python 3",
   "language": "python",
   "name": "python3"
  },
  "language_info": {
   "codemirror_mode": {
    "name": "ipython",
    "version": 3
   },
   "file_extension": ".py",
   "mimetype": "text/x-python",
   "name": "python",
   "nbconvert_exporter": "python",
   "pygments_lexer": "ipython3",
   "version": "3.7.4"
  }
 },
 "nbformat": 4,
 "nbformat_minor": 2
}
